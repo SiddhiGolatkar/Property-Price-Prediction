{
 "cells": [
  {
   "cell_type": "markdown",
   "metadata": {},
   "source": [
    "# Property Price Prediction"
   ]
  },
  {
   "cell_type": "markdown",
   "metadata": {},
   "source": [
    "## Load the libraries"
   ]
  },
  {
   "cell_type": "code",
   "execution_count": 53,
   "metadata": {},
   "outputs": [],
   "source": [
    "import pandas as pd\n",
    "import numpy as np\n",
    "import matplotlib.pyplot as plt\n",
    "import seaborn as sns\n",
    "\n",
    "# skip warnings\n",
    "import warnings\n",
    "warnings.filterwarnings('ignore')\n",
    "warnings.filterwarnings(action = 'ignore', category = DeprecationWarning)\n",
    "warnings.filterwarnings(action = 'ignore', category = FutureWarning)\n",
    "\n",
    "pd.set_option('display.max_columns',None)\n",
    "pd.set_option('display.max_rows',None)  \n",
    "pd.set_option('display.expand_frame_repr',False)\n",
    "pd.set_option('max_colwidth',-1)"
   ]
  },
  {
   "cell_type": "markdown",
   "metadata": {},
   "source": [
    "## Read data"
   ]
  },
  {
   "cell_type": "code",
   "execution_count": 54,
   "metadata": {},
   "outputs": [],
   "source": [
    "data = pd.read_csv('Property_Price.csv')"
   ]
  },
  {
   "cell_type": "code",
   "execution_count": 55,
   "metadata": {},
   "outputs": [
    {
     "data": {
      "text/html": [
       "<div>\n",
       "<style scoped>\n",
       "    .dataframe tbody tr th:only-of-type {\n",
       "        vertical-align: middle;\n",
       "    }\n",
       "\n",
       "    .dataframe tbody tr th {\n",
       "        vertical-align: top;\n",
       "    }\n",
       "\n",
       "    .dataframe thead th {\n",
       "        text-align: right;\n",
       "    }\n",
       "</style>\n",
       "<table border=\"1\" class=\"dataframe\">\n",
       "  <thead>\n",
       "    <tr style=\"text-align: right;\">\n",
       "      <th></th>\n",
       "      <th>Id</th>\n",
       "      <th>Building_Class</th>\n",
       "      <th>Zoning_Class</th>\n",
       "      <th>Lot_Extent</th>\n",
       "      <th>Lot_Size</th>\n",
       "      <th>Road_Type</th>\n",
       "      <th>Lane_Type</th>\n",
       "      <th>Property_Shape</th>\n",
       "      <th>Land_Outline</th>\n",
       "      <th>Utility_Type</th>\n",
       "      <th>Lot_Configuration</th>\n",
       "      <th>Property_Slope</th>\n",
       "      <th>Neighborhood</th>\n",
       "      <th>Condition1</th>\n",
       "      <th>Condition2</th>\n",
       "      <th>House_Type</th>\n",
       "      <th>House_Design</th>\n",
       "      <th>Overall_Material</th>\n",
       "      <th>House_Condition</th>\n",
       "      <th>Construction_Year</th>\n",
       "      <th>Remodel_Year</th>\n",
       "      <th>Roof_Design</th>\n",
       "      <th>Roof_Quality</th>\n",
       "      <th>Exterior1st</th>\n",
       "      <th>Exterior2nd</th>\n",
       "      <th>Brick_Veneer_Type</th>\n",
       "      <th>Brick_Veneer_Area</th>\n",
       "      <th>Exterior_Material</th>\n",
       "      <th>Exterior_Condition</th>\n",
       "      <th>Foundation_Type</th>\n",
       "      <th>Basement_Height</th>\n",
       "      <th>Basement_Condition</th>\n",
       "      <th>Exposure_Level</th>\n",
       "      <th>BsmtFinType1</th>\n",
       "      <th>BsmtFinSF1</th>\n",
       "      <th>BsmtFinType2</th>\n",
       "      <th>BsmtFinSF2</th>\n",
       "      <th>BsmtUnfSF</th>\n",
       "      <th>Total_Basement_Area</th>\n",
       "      <th>Heating_Type</th>\n",
       "      <th>Heating_Quality</th>\n",
       "      <th>Air_Conditioning</th>\n",
       "      <th>Electrical_System</th>\n",
       "      <th>First_Floor_Area</th>\n",
       "      <th>Second_Floor_Area</th>\n",
       "      <th>LowQualFinSF</th>\n",
       "      <th>Grade_Living_Area</th>\n",
       "      <th>Underground_Full_Bathroom</th>\n",
       "      <th>Underground_Half_Bathroom</th>\n",
       "      <th>Full_Bathroom_Above_Grade</th>\n",
       "      <th>Half_Bathroom_Above_Grade</th>\n",
       "      <th>Bedroom_Above_Grade</th>\n",
       "      <th>Kitchen_Above_Grade</th>\n",
       "      <th>Kitchen_Quality</th>\n",
       "      <th>Rooms_Above_Grade</th>\n",
       "      <th>Functional_Rate</th>\n",
       "      <th>Fireplaces</th>\n",
       "      <th>Fireplace_Quality</th>\n",
       "      <th>Garage</th>\n",
       "      <th>Garage_Built_Year</th>\n",
       "      <th>Garage_Finish_Year</th>\n",
       "      <th>Garage_Size</th>\n",
       "      <th>Garage_Area</th>\n",
       "      <th>Garage_Quality</th>\n",
       "      <th>Garage_Condition</th>\n",
       "      <th>Pavedd_Drive</th>\n",
       "      <th>W_Deck_Area</th>\n",
       "      <th>Open_Lobby_Area</th>\n",
       "      <th>Enclosed_Lobby_Area</th>\n",
       "      <th>Three_Season_Lobby_Area</th>\n",
       "      <th>Screen_Lobby_Area</th>\n",
       "      <th>Pool_Area</th>\n",
       "      <th>Pool_Quality</th>\n",
       "      <th>Fence_Quality</th>\n",
       "      <th>Miscellaneous_Feature</th>\n",
       "      <th>Miscellaneous_Value</th>\n",
       "      <th>Month_Sold</th>\n",
       "      <th>Year_Sold</th>\n",
       "      <th>Sale_Type</th>\n",
       "      <th>Sale_Condition</th>\n",
       "      <th>Sale_Price</th>\n",
       "    </tr>\n",
       "  </thead>\n",
       "  <tbody>\n",
       "    <tr>\n",
       "      <th>0</th>\n",
       "      <td>1</td>\n",
       "      <td>60</td>\n",
       "      <td>RLD</td>\n",
       "      <td>65.0</td>\n",
       "      <td>8450</td>\n",
       "      <td>Paved</td>\n",
       "      <td>NaN</td>\n",
       "      <td>Reg</td>\n",
       "      <td>Lvl</td>\n",
       "      <td>AllPub</td>\n",
       "      <td>I</td>\n",
       "      <td>GS</td>\n",
       "      <td>CollgCr</td>\n",
       "      <td>Norm</td>\n",
       "      <td>Norm</td>\n",
       "      <td>1Fam</td>\n",
       "      <td>2Story</td>\n",
       "      <td>7</td>\n",
       "      <td>5</td>\n",
       "      <td>2003</td>\n",
       "      <td>2003</td>\n",
       "      <td>Gable</td>\n",
       "      <td>SS</td>\n",
       "      <td>VinylSd</td>\n",
       "      <td>VinylSd</td>\n",
       "      <td>BrkFace</td>\n",
       "      <td>196.0</td>\n",
       "      <td>Gd</td>\n",
       "      <td>TA</td>\n",
       "      <td>PC</td>\n",
       "      <td>Gd</td>\n",
       "      <td>TA</td>\n",
       "      <td>No</td>\n",
       "      <td>GLQ</td>\n",
       "      <td>706</td>\n",
       "      <td>Unf</td>\n",
       "      <td>0</td>\n",
       "      <td>150</td>\n",
       "      <td>856</td>\n",
       "      <td>GasA</td>\n",
       "      <td>Ex</td>\n",
       "      <td>Y</td>\n",
       "      <td>SBrkr</td>\n",
       "      <td>856</td>\n",
       "      <td>854</td>\n",
       "      <td>0</td>\n",
       "      <td>1710</td>\n",
       "      <td>1</td>\n",
       "      <td>0</td>\n",
       "      <td>2</td>\n",
       "      <td>1</td>\n",
       "      <td>3</td>\n",
       "      <td>1</td>\n",
       "      <td>Gd</td>\n",
       "      <td>8</td>\n",
       "      <td>TF</td>\n",
       "      <td>0</td>\n",
       "      <td>NaN</td>\n",
       "      <td>Attchd</td>\n",
       "      <td>2003.0</td>\n",
       "      <td>RFn</td>\n",
       "      <td>2</td>\n",
       "      <td>1085.793744</td>\n",
       "      <td>TA</td>\n",
       "      <td>TA</td>\n",
       "      <td>Y</td>\n",
       "      <td>163.788080</td>\n",
       "      <td>69.596115</td>\n",
       "      <td>20.337934</td>\n",
       "      <td>0</td>\n",
       "      <td>0</td>\n",
       "      <td>0</td>\n",
       "      <td>NaN</td>\n",
       "      <td>NaN</td>\n",
       "      <td>NaN</td>\n",
       "      <td>0</td>\n",
       "      <td>2</td>\n",
       "      <td>2008</td>\n",
       "      <td>WD</td>\n",
       "      <td>Normal</td>\n",
       "      <td>208500</td>\n",
       "    </tr>\n",
       "    <tr>\n",
       "      <th>1</th>\n",
       "      <td>2</td>\n",
       "      <td>20</td>\n",
       "      <td>RLD</td>\n",
       "      <td>80.0</td>\n",
       "      <td>9600</td>\n",
       "      <td>Paved</td>\n",
       "      <td>NaN</td>\n",
       "      <td>Reg</td>\n",
       "      <td>Lvl</td>\n",
       "      <td>AllPub</td>\n",
       "      <td>FR2P</td>\n",
       "      <td>GS</td>\n",
       "      <td>Veenker</td>\n",
       "      <td>Feedr</td>\n",
       "      <td>Norm</td>\n",
       "      <td>1Fam</td>\n",
       "      <td>1Story</td>\n",
       "      <td>6</td>\n",
       "      <td>8</td>\n",
       "      <td>1976</td>\n",
       "      <td>1976</td>\n",
       "      <td>Gable</td>\n",
       "      <td>SS</td>\n",
       "      <td>MetalSd</td>\n",
       "      <td>MetalSd</td>\n",
       "      <td>None</td>\n",
       "      <td>0.0</td>\n",
       "      <td>TA</td>\n",
       "      <td>TA</td>\n",
       "      <td>CB</td>\n",
       "      <td>Gd</td>\n",
       "      <td>TA</td>\n",
       "      <td>Gd</td>\n",
       "      <td>ALQ</td>\n",
       "      <td>978</td>\n",
       "      <td>Unf</td>\n",
       "      <td>0</td>\n",
       "      <td>284</td>\n",
       "      <td>1262</td>\n",
       "      <td>GasA</td>\n",
       "      <td>Ex</td>\n",
       "      <td>Y</td>\n",
       "      <td>SBrkr</td>\n",
       "      <td>1262</td>\n",
       "      <td>0</td>\n",
       "      <td>0</td>\n",
       "      <td>1262</td>\n",
       "      <td>0</td>\n",
       "      <td>1</td>\n",
       "      <td>2</td>\n",
       "      <td>0</td>\n",
       "      <td>3</td>\n",
       "      <td>1</td>\n",
       "      <td>TA</td>\n",
       "      <td>6</td>\n",
       "      <td>TF</td>\n",
       "      <td>1</td>\n",
       "      <td>TA</td>\n",
       "      <td>Attchd</td>\n",
       "      <td>1976.0</td>\n",
       "      <td>RFn</td>\n",
       "      <td>2</td>\n",
       "      <td>196.316304</td>\n",
       "      <td>TA</td>\n",
       "      <td>TA</td>\n",
       "      <td>Y</td>\n",
       "      <td>198.900074</td>\n",
       "      <td>74.716033</td>\n",
       "      <td>15.039392</td>\n",
       "      <td>0</td>\n",
       "      <td>0</td>\n",
       "      <td>0</td>\n",
       "      <td>NaN</td>\n",
       "      <td>NaN</td>\n",
       "      <td>NaN</td>\n",
       "      <td>0</td>\n",
       "      <td>5</td>\n",
       "      <td>2007</td>\n",
       "      <td>WD</td>\n",
       "      <td>Normal</td>\n",
       "      <td>181500</td>\n",
       "    </tr>\n",
       "    <tr>\n",
       "      <th>2</th>\n",
       "      <td>3</td>\n",
       "      <td>60</td>\n",
       "      <td>RLD</td>\n",
       "      <td>68.0</td>\n",
       "      <td>11250</td>\n",
       "      <td>Paved</td>\n",
       "      <td>NaN</td>\n",
       "      <td>IR1</td>\n",
       "      <td>Lvl</td>\n",
       "      <td>AllPub</td>\n",
       "      <td>I</td>\n",
       "      <td>GS</td>\n",
       "      <td>CollgCr</td>\n",
       "      <td>Norm</td>\n",
       "      <td>Norm</td>\n",
       "      <td>1Fam</td>\n",
       "      <td>2Story</td>\n",
       "      <td>7</td>\n",
       "      <td>5</td>\n",
       "      <td>2001</td>\n",
       "      <td>2002</td>\n",
       "      <td>Gable</td>\n",
       "      <td>SS</td>\n",
       "      <td>VinylSd</td>\n",
       "      <td>VinylSd</td>\n",
       "      <td>BrkFace</td>\n",
       "      <td>162.0</td>\n",
       "      <td>Gd</td>\n",
       "      <td>TA</td>\n",
       "      <td>PC</td>\n",
       "      <td>Gd</td>\n",
       "      <td>TA</td>\n",
       "      <td>Mn</td>\n",
       "      <td>GLQ</td>\n",
       "      <td>486</td>\n",
       "      <td>Unf</td>\n",
       "      <td>0</td>\n",
       "      <td>434</td>\n",
       "      <td>920</td>\n",
       "      <td>GasA</td>\n",
       "      <td>Ex</td>\n",
       "      <td>Y</td>\n",
       "      <td>SBrkr</td>\n",
       "      <td>920</td>\n",
       "      <td>866</td>\n",
       "      <td>0</td>\n",
       "      <td>1786</td>\n",
       "      <td>1</td>\n",
       "      <td>0</td>\n",
       "      <td>2</td>\n",
       "      <td>1</td>\n",
       "      <td>3</td>\n",
       "      <td>1</td>\n",
       "      <td>Gd</td>\n",
       "      <td>6</td>\n",
       "      <td>TF</td>\n",
       "      <td>1</td>\n",
       "      <td>TA</td>\n",
       "      <td>Attchd</td>\n",
       "      <td>2001.0</td>\n",
       "      <td>RFn</td>\n",
       "      <td>2</td>\n",
       "      <td>218.068403</td>\n",
       "      <td>TA</td>\n",
       "      <td>TA</td>\n",
       "      <td>Y</td>\n",
       "      <td>26.127533</td>\n",
       "      <td>32.085268</td>\n",
       "      <td>-46.232198</td>\n",
       "      <td>0</td>\n",
       "      <td>0</td>\n",
       "      <td>0</td>\n",
       "      <td>NaN</td>\n",
       "      <td>NaN</td>\n",
       "      <td>NaN</td>\n",
       "      <td>0</td>\n",
       "      <td>9</td>\n",
       "      <td>2008</td>\n",
       "      <td>WD</td>\n",
       "      <td>Normal</td>\n",
       "      <td>223500</td>\n",
       "    </tr>\n",
       "    <tr>\n",
       "      <th>3</th>\n",
       "      <td>4</td>\n",
       "      <td>70</td>\n",
       "      <td>RLD</td>\n",
       "      <td>60.0</td>\n",
       "      <td>9550</td>\n",
       "      <td>Paved</td>\n",
       "      <td>NaN</td>\n",
       "      <td>IR1</td>\n",
       "      <td>Lvl</td>\n",
       "      <td>AllPub</td>\n",
       "      <td>C</td>\n",
       "      <td>GS</td>\n",
       "      <td>Crawfor</td>\n",
       "      <td>Norm</td>\n",
       "      <td>Norm</td>\n",
       "      <td>1Fam</td>\n",
       "      <td>2Story</td>\n",
       "      <td>7</td>\n",
       "      <td>5</td>\n",
       "      <td>1915</td>\n",
       "      <td>1970</td>\n",
       "      <td>Gable</td>\n",
       "      <td>SS</td>\n",
       "      <td>Wd Sdng</td>\n",
       "      <td>Wd Shng</td>\n",
       "      <td>None</td>\n",
       "      <td>0.0</td>\n",
       "      <td>TA</td>\n",
       "      <td>TA</td>\n",
       "      <td>BT</td>\n",
       "      <td>TA</td>\n",
       "      <td>Gd</td>\n",
       "      <td>No</td>\n",
       "      <td>ALQ</td>\n",
       "      <td>216</td>\n",
       "      <td>Unf</td>\n",
       "      <td>0</td>\n",
       "      <td>540</td>\n",
       "      <td>756</td>\n",
       "      <td>GasA</td>\n",
       "      <td>Gd</td>\n",
       "      <td>Y</td>\n",
       "      <td>SBrkr</td>\n",
       "      <td>961</td>\n",
       "      <td>756</td>\n",
       "      <td>0</td>\n",
       "      <td>1717</td>\n",
       "      <td>1</td>\n",
       "      <td>0</td>\n",
       "      <td>1</td>\n",
       "      <td>0</td>\n",
       "      <td>3</td>\n",
       "      <td>1</td>\n",
       "      <td>Gd</td>\n",
       "      <td>7</td>\n",
       "      <td>TF</td>\n",
       "      <td>1</td>\n",
       "      <td>Gd</td>\n",
       "      <td>Detchd</td>\n",
       "      <td>1998.0</td>\n",
       "      <td>Unf</td>\n",
       "      <td>3</td>\n",
       "      <td>696.996439</td>\n",
       "      <td>TA</td>\n",
       "      <td>TA</td>\n",
       "      <td>Y</td>\n",
       "      <td>46.948018</td>\n",
       "      <td>40.181415</td>\n",
       "      <td>60.921821</td>\n",
       "      <td>0</td>\n",
       "      <td>0</td>\n",
       "      <td>0</td>\n",
       "      <td>NaN</td>\n",
       "      <td>NaN</td>\n",
       "      <td>NaN</td>\n",
       "      <td>0</td>\n",
       "      <td>2</td>\n",
       "      <td>2006</td>\n",
       "      <td>WD</td>\n",
       "      <td>Abnorml</td>\n",
       "      <td>140000</td>\n",
       "    </tr>\n",
       "    <tr>\n",
       "      <th>4</th>\n",
       "      <td>5</td>\n",
       "      <td>60</td>\n",
       "      <td>RLD</td>\n",
       "      <td>84.0</td>\n",
       "      <td>14260</td>\n",
       "      <td>Paved</td>\n",
       "      <td>NaN</td>\n",
       "      <td>IR1</td>\n",
       "      <td>Lvl</td>\n",
       "      <td>AllPub</td>\n",
       "      <td>FR2P</td>\n",
       "      <td>GS</td>\n",
       "      <td>NoRidge</td>\n",
       "      <td>Norm</td>\n",
       "      <td>Norm</td>\n",
       "      <td>1Fam</td>\n",
       "      <td>2Story</td>\n",
       "      <td>8</td>\n",
       "      <td>5</td>\n",
       "      <td>2000</td>\n",
       "      <td>2000</td>\n",
       "      <td>Gable</td>\n",
       "      <td>SS</td>\n",
       "      <td>VinylSd</td>\n",
       "      <td>VinylSd</td>\n",
       "      <td>BrkFace</td>\n",
       "      <td>350.0</td>\n",
       "      <td>Gd</td>\n",
       "      <td>TA</td>\n",
       "      <td>PC</td>\n",
       "      <td>Gd</td>\n",
       "      <td>TA</td>\n",
       "      <td>Av</td>\n",
       "      <td>GLQ</td>\n",
       "      <td>655</td>\n",
       "      <td>Unf</td>\n",
       "      <td>0</td>\n",
       "      <td>490</td>\n",
       "      <td>1145</td>\n",
       "      <td>GasA</td>\n",
       "      <td>Ex</td>\n",
       "      <td>Y</td>\n",
       "      <td>SBrkr</td>\n",
       "      <td>1145</td>\n",
       "      <td>1053</td>\n",
       "      <td>0</td>\n",
       "      <td>2198</td>\n",
       "      <td>1</td>\n",
       "      <td>0</td>\n",
       "      <td>2</td>\n",
       "      <td>1</td>\n",
       "      <td>4</td>\n",
       "      <td>1</td>\n",
       "      <td>Gd</td>\n",
       "      <td>9</td>\n",
       "      <td>TF</td>\n",
       "      <td>1</td>\n",
       "      <td>TA</td>\n",
       "      <td>Attchd</td>\n",
       "      <td>2000.0</td>\n",
       "      <td>RFn</td>\n",
       "      <td>3</td>\n",
       "      <td>568.859882</td>\n",
       "      <td>TA</td>\n",
       "      <td>TA</td>\n",
       "      <td>Y</td>\n",
       "      <td>-10.626105</td>\n",
       "      <td>20.755323</td>\n",
       "      <td>21.788818</td>\n",
       "      <td>0</td>\n",
       "      <td>0</td>\n",
       "      <td>0</td>\n",
       "      <td>NaN</td>\n",
       "      <td>NaN</td>\n",
       "      <td>NaN</td>\n",
       "      <td>0</td>\n",
       "      <td>12</td>\n",
       "      <td>2008</td>\n",
       "      <td>WD</td>\n",
       "      <td>Normal</td>\n",
       "      <td>250000</td>\n",
       "    </tr>\n",
       "  </tbody>\n",
       "</table>\n",
       "</div>"
      ],
      "text/plain": [
       "   Id  Building_Class Zoning_Class  Lot_Extent  Lot_Size Road_Type Lane_Type Property_Shape Land_Outline Utility_Type Lot_Configuration Property_Slope Neighborhood Condition1 Condition2 House_Type House_Design  Overall_Material  House_Condition  Construction_Year  Remodel_Year Roof_Design Roof_Quality Exterior1st Exterior2nd Brick_Veneer_Type  Brick_Veneer_Area Exterior_Material Exterior_Condition Foundation_Type Basement_Height Basement_Condition Exposure_Level BsmtFinType1  BsmtFinSF1 BsmtFinType2  BsmtFinSF2  BsmtUnfSF  Total_Basement_Area Heating_Type Heating_Quality Air_Conditioning Electrical_System  First_Floor_Area  Second_Floor_Area  LowQualFinSF  Grade_Living_Area  Underground_Full_Bathroom  Underground_Half_Bathroom  Full_Bathroom_Above_Grade  Half_Bathroom_Above_Grade  Bedroom_Above_Grade  Kitchen_Above_Grade Kitchen_Quality  Rooms_Above_Grade Functional_Rate  Fireplaces Fireplace_Quality  Garage  Garage_Built_Year Garage_Finish_Year  Garage_Size  Garage_Area Garage_Quality Garage_Condition Pavedd_Drive  W_Deck_Area  Open_Lobby_Area  Enclosed_Lobby_Area  Three_Season_Lobby_Area  Screen_Lobby_Area  Pool_Area Pool_Quality Fence_Quality Miscellaneous_Feature  Miscellaneous_Value  Month_Sold  Year_Sold Sale_Type Sale_Condition  Sale_Price\n",
       "0  1   60              RLD          65.0        8450      Paved     NaN       Reg            Lvl          AllPub       I                 GS             CollgCr      Norm       Norm       1Fam       2Story       7                 5                2003               2003          Gable       SS           VinylSd     VinylSd     BrkFace           196.0              Gd                TA                 PC              Gd              TA                 No             GLQ          706         Unf          0           150        856                  GasA         Ex              Y                SBrkr             856               854                0             1710               1                          0                          2                          1                          3                    1                    Gd              8                  TF              0           NaN               Attchd  2003.0             RFn                2            1085.793744  TA             TA               Y            163.788080   69.596115        20.337934            0                        0                  0          NaN          NaN           NaN                   0                    2           2008       WD        Normal         208500    \n",
       "1  2   20              RLD          80.0        9600      Paved     NaN       Reg            Lvl          AllPub       FR2P              GS             Veenker      Feedr      Norm       1Fam       1Story       6                 8                1976               1976          Gable       SS           MetalSd     MetalSd     None              0.0                TA                TA                 CB              Gd              TA                 Gd             ALQ          978         Unf          0           284        1262                 GasA         Ex              Y                SBrkr             1262              0                  0             1262               0                          1                          2                          0                          3                    1                    TA              6                  TF              1           TA                Attchd  1976.0             RFn                2            196.316304   TA             TA               Y            198.900074   74.716033        15.039392            0                        0                  0          NaN          NaN           NaN                   0                    5           2007       WD        Normal         181500    \n",
       "2  3   60              RLD          68.0        11250     Paved     NaN       IR1            Lvl          AllPub       I                 GS             CollgCr      Norm       Norm       1Fam       2Story       7                 5                2001               2002          Gable       SS           VinylSd     VinylSd     BrkFace           162.0              Gd                TA                 PC              Gd              TA                 Mn             GLQ          486         Unf          0           434        920                  GasA         Ex              Y                SBrkr             920               866                0             1786               1                          0                          2                          1                          3                    1                    Gd              6                  TF              1           TA                Attchd  2001.0             RFn                2            218.068403   TA             TA               Y            26.127533    32.085268       -46.232198            0                        0                  0          NaN          NaN           NaN                   0                    9           2008       WD        Normal         223500    \n",
       "3  4   70              RLD          60.0        9550      Paved     NaN       IR1            Lvl          AllPub       C                 GS             Crawfor      Norm       Norm       1Fam       2Story       7                 5                1915               1970          Gable       SS           Wd Sdng     Wd Shng     None              0.0                TA                TA                 BT              TA              Gd                 No             ALQ          216         Unf          0           540        756                  GasA         Gd              Y                SBrkr             961               756                0             1717               1                          0                          1                          0                          3                    1                    Gd              7                  TF              1           Gd                Detchd  1998.0             Unf                3            696.996439   TA             TA               Y            46.948018    40.181415        60.921821            0                        0                  0          NaN          NaN           NaN                   0                    2           2006       WD        Abnorml        140000    \n",
       "4  5   60              RLD          84.0        14260     Paved     NaN       IR1            Lvl          AllPub       FR2P              GS             NoRidge      Norm       Norm       1Fam       2Story       8                 5                2000               2000          Gable       SS           VinylSd     VinylSd     BrkFace           350.0              Gd                TA                 PC              Gd              TA                 Av             GLQ          655         Unf          0           490        1145                 GasA         Ex              Y                SBrkr             1145              1053               0             2198               1                          0                          2                          1                          4                    1                    Gd              9                  TF              1           TA                Attchd  2000.0             RFn                3            568.859882   TA             TA               Y           -10.626105    20.755323        21.788818            0                        0                  0          NaN          NaN           NaN                   0                    12          2008       WD        Normal         250000    "
      ]
     },
     "execution_count": 55,
     "metadata": {},
     "output_type": "execute_result"
    }
   ],
   "source": [
    "data.head()"
   ]
  },
  {
   "cell_type": "code",
   "execution_count": 56,
   "metadata": {},
   "outputs": [
    {
     "data": {
      "text/plain": [
       "(1459, 81)"
      ]
     },
     "execution_count": 56,
     "metadata": {},
     "output_type": "execute_result"
    }
   ],
   "source": [
    "data.shape"
   ]
  },
  {
   "cell_type": "code",
   "execution_count": 57,
   "metadata": {},
   "outputs": [
    {
     "data": {
      "text/plain": [
       "1459"
      ]
     },
     "execution_count": 57,
     "metadata": {},
     "output_type": "execute_result"
    }
   ],
   "source": [
    "data.Id.nunique()"
   ]
  },
  {
   "cell_type": "markdown",
   "metadata": {},
   "source": [
    "As all the values in this column are unique, we will **set Id as row index.**"
   ]
  },
  {
   "cell_type": "code",
   "execution_count": 58,
   "metadata": {},
   "outputs": [],
   "source": [
    "data.set_index('Id', inplace = True)"
   ]
  },
  {
   "cell_type": "code",
   "execution_count": 59,
   "metadata": {},
   "outputs": [
    {
     "data": {
      "text/html": [
       "<div>\n",
       "<style scoped>\n",
       "    .dataframe tbody tr th:only-of-type {\n",
       "        vertical-align: middle;\n",
       "    }\n",
       "\n",
       "    .dataframe tbody tr th {\n",
       "        vertical-align: top;\n",
       "    }\n",
       "\n",
       "    .dataframe thead th {\n",
       "        text-align: right;\n",
       "    }\n",
       "</style>\n",
       "<table border=\"1\" class=\"dataframe\">\n",
       "  <thead>\n",
       "    <tr style=\"text-align: right;\">\n",
       "      <th></th>\n",
       "      <th>count</th>\n",
       "      <th>mean</th>\n",
       "      <th>std</th>\n",
       "      <th>min</th>\n",
       "      <th>25%</th>\n",
       "      <th>50%</th>\n",
       "      <th>75%</th>\n",
       "      <th>max</th>\n",
       "    </tr>\n",
       "  </thead>\n",
       "  <tbody>\n",
       "    <tr>\n",
       "      <th>Building_Class</th>\n",
       "      <td>1459.0</td>\n",
       "      <td>56.922550</td>\n",
       "      <td>42.304033</td>\n",
       "      <td>20.000000</td>\n",
       "      <td>20.000000</td>\n",
       "      <td>50.000000</td>\n",
       "      <td>70.000000</td>\n",
       "      <td>190.000000</td>\n",
       "    </tr>\n",
       "    <tr>\n",
       "      <th>Lot_Extent</th>\n",
       "      <td>1200.0</td>\n",
       "      <td>70.045833</td>\n",
       "      <td>24.294456</td>\n",
       "      <td>21.000000</td>\n",
       "      <td>59.000000</td>\n",
       "      <td>69.000000</td>\n",
       "      <td>80.000000</td>\n",
       "      <td>313.000000</td>\n",
       "    </tr>\n",
       "    <tr>\n",
       "      <th>Lot_Size</th>\n",
       "      <td>1459.0</td>\n",
       "      <td>10517.225497</td>\n",
       "      <td>9984.675721</td>\n",
       "      <td>1300.000000</td>\n",
       "      <td>7549.000000</td>\n",
       "      <td>9477.000000</td>\n",
       "      <td>11603.000000</td>\n",
       "      <td>215245.000000</td>\n",
       "    </tr>\n",
       "    <tr>\n",
       "      <th>Overall_Material</th>\n",
       "      <td>1459.0</td>\n",
       "      <td>6.100069</td>\n",
       "      <td>1.383171</td>\n",
       "      <td>1.000000</td>\n",
       "      <td>5.000000</td>\n",
       "      <td>6.000000</td>\n",
       "      <td>7.000000</td>\n",
       "      <td>10.000000</td>\n",
       "    </tr>\n",
       "    <tr>\n",
       "      <th>House_Condition</th>\n",
       "      <td>1459.0</td>\n",
       "      <td>5.575051</td>\n",
       "      <td>1.113125</td>\n",
       "      <td>1.000000</td>\n",
       "      <td>5.000000</td>\n",
       "      <td>5.000000</td>\n",
       "      <td>6.000000</td>\n",
       "      <td>9.000000</td>\n",
       "    </tr>\n",
       "    <tr>\n",
       "      <th>Construction_Year</th>\n",
       "      <td>1459.0</td>\n",
       "      <td>1971.272104</td>\n",
       "      <td>30.212814</td>\n",
       "      <td>1872.000000</td>\n",
       "      <td>1954.000000</td>\n",
       "      <td>1973.000000</td>\n",
       "      <td>2000.000000</td>\n",
       "      <td>2010.000000</td>\n",
       "    </tr>\n",
       "    <tr>\n",
       "      <th>Remodel_Year</th>\n",
       "      <td>1459.0</td>\n",
       "      <td>1984.879369</td>\n",
       "      <td>20.645927</td>\n",
       "      <td>1950.000000</td>\n",
       "      <td>1967.000000</td>\n",
       "      <td>1994.000000</td>\n",
       "      <td>2004.000000</td>\n",
       "      <td>2010.000000</td>\n",
       "    </tr>\n",
       "    <tr>\n",
       "      <th>Brick_Veneer_Area</th>\n",
       "      <td>1451.0</td>\n",
       "      <td>103.756720</td>\n",
       "      <td>181.108150</td>\n",
       "      <td>0.000000</td>\n",
       "      <td>0.000000</td>\n",
       "      <td>0.000000</td>\n",
       "      <td>166.000000</td>\n",
       "      <td>1600.000000</td>\n",
       "    </tr>\n",
       "    <tr>\n",
       "      <th>BsmtFinSF1</th>\n",
       "      <td>1459.0</td>\n",
       "      <td>443.374914</td>\n",
       "      <td>456.142186</td>\n",
       "      <td>0.000000</td>\n",
       "      <td>0.000000</td>\n",
       "      <td>383.000000</td>\n",
       "      <td>712.000000</td>\n",
       "      <td>5644.000000</td>\n",
       "    </tr>\n",
       "    <tr>\n",
       "      <th>BsmtFinSF2</th>\n",
       "      <td>1459.0</td>\n",
       "      <td>46.382454</td>\n",
       "      <td>161.248500</td>\n",
       "      <td>0.000000</td>\n",
       "      <td>0.000000</td>\n",
       "      <td>0.000000</td>\n",
       "      <td>0.000000</td>\n",
       "      <td>1474.000000</td>\n",
       "    </tr>\n",
       "    <tr>\n",
       "      <th>BsmtUnfSF</th>\n",
       "      <td>1459.0</td>\n",
       "      <td>567.535984</td>\n",
       "      <td>441.874057</td>\n",
       "      <td>0.000000</td>\n",
       "      <td>223.500000</td>\n",
       "      <td>479.000000</td>\n",
       "      <td>808.000000</td>\n",
       "      <td>2336.000000</td>\n",
       "    </tr>\n",
       "    <tr>\n",
       "      <th>Total_Basement_Area</th>\n",
       "      <td>1459.0</td>\n",
       "      <td>1057.293352</td>\n",
       "      <td>438.824912</td>\n",
       "      <td>0.000000</td>\n",
       "      <td>795.500000</td>\n",
       "      <td>991.000000</td>\n",
       "      <td>1298.500000</td>\n",
       "      <td>6110.000000</td>\n",
       "    </tr>\n",
       "    <tr>\n",
       "      <th>First_Floor_Area</th>\n",
       "      <td>1459.0</td>\n",
       "      <td>1162.562714</td>\n",
       "      <td>386.712553</td>\n",
       "      <td>334.000000</td>\n",
       "      <td>882.000000</td>\n",
       "      <td>1086.000000</td>\n",
       "      <td>1391.500000</td>\n",
       "      <td>4692.000000</td>\n",
       "    </tr>\n",
       "    <tr>\n",
       "      <th>Second_Floor_Area</th>\n",
       "      <td>1459.0</td>\n",
       "      <td>347.230295</td>\n",
       "      <td>436.583480</td>\n",
       "      <td>0.000000</td>\n",
       "      <td>0.000000</td>\n",
       "      <td>0.000000</td>\n",
       "      <td>728.000000</td>\n",
       "      <td>2065.000000</td>\n",
       "    </tr>\n",
       "    <tr>\n",
       "      <th>LowQualFinSF</th>\n",
       "      <td>1459.0</td>\n",
       "      <td>5.848526</td>\n",
       "      <td>48.639512</td>\n",
       "      <td>0.000000</td>\n",
       "      <td>0.000000</td>\n",
       "      <td>0.000000</td>\n",
       "      <td>0.000000</td>\n",
       "      <td>572.000000</td>\n",
       "    </tr>\n",
       "    <tr>\n",
       "      <th>Grade_Living_Area</th>\n",
       "      <td>1459.0</td>\n",
       "      <td>1515.641535</td>\n",
       "      <td>525.616607</td>\n",
       "      <td>334.000000</td>\n",
       "      <td>1129.000000</td>\n",
       "      <td>1464.000000</td>\n",
       "      <td>1777.500000</td>\n",
       "      <td>5642.000000</td>\n",
       "    </tr>\n",
       "    <tr>\n",
       "      <th>Underground_Full_Bathroom</th>\n",
       "      <td>1459.0</td>\n",
       "      <td>0.424949</td>\n",
       "      <td>0.518870</td>\n",
       "      <td>0.000000</td>\n",
       "      <td>0.000000</td>\n",
       "      <td>0.000000</td>\n",
       "      <td>1.000000</td>\n",
       "      <td>3.000000</td>\n",
       "    </tr>\n",
       "    <tr>\n",
       "      <th>Underground_Half_Bathroom</th>\n",
       "      <td>1459.0</td>\n",
       "      <td>0.057574</td>\n",
       "      <td>0.238830</td>\n",
       "      <td>0.000000</td>\n",
       "      <td>0.000000</td>\n",
       "      <td>0.000000</td>\n",
       "      <td>0.000000</td>\n",
       "      <td>2.000000</td>\n",
       "    </tr>\n",
       "    <tr>\n",
       "      <th>Full_Bathroom_Above_Grade</th>\n",
       "      <td>1459.0</td>\n",
       "      <td>1.565456</td>\n",
       "      <td>0.550906</td>\n",
       "      <td>0.000000</td>\n",
       "      <td>1.000000</td>\n",
       "      <td>2.000000</td>\n",
       "      <td>2.000000</td>\n",
       "      <td>3.000000</td>\n",
       "    </tr>\n",
       "    <tr>\n",
       "      <th>Half_Bathroom_Above_Grade</th>\n",
       "      <td>1459.0</td>\n",
       "      <td>0.382454</td>\n",
       "      <td>0.502798</td>\n",
       "      <td>0.000000</td>\n",
       "      <td>0.000000</td>\n",
       "      <td>0.000000</td>\n",
       "      <td>1.000000</td>\n",
       "      <td>2.000000</td>\n",
       "    </tr>\n",
       "    <tr>\n",
       "      <th>Bedroom_Above_Grade</th>\n",
       "      <td>1459.0</td>\n",
       "      <td>2.866347</td>\n",
       "      <td>0.816050</td>\n",
       "      <td>0.000000</td>\n",
       "      <td>2.000000</td>\n",
       "      <td>3.000000</td>\n",
       "      <td>3.000000</td>\n",
       "      <td>8.000000</td>\n",
       "    </tr>\n",
       "    <tr>\n",
       "      <th>Kitchen_Above_Grade</th>\n",
       "      <td>1459.0</td>\n",
       "      <td>1.046607</td>\n",
       "      <td>0.220410</td>\n",
       "      <td>0.000000</td>\n",
       "      <td>1.000000</td>\n",
       "      <td>1.000000</td>\n",
       "      <td>1.000000</td>\n",
       "      <td>3.000000</td>\n",
       "    </tr>\n",
       "    <tr>\n",
       "      <th>Rooms_Above_Grade</th>\n",
       "      <td>1459.0</td>\n",
       "      <td>6.518163</td>\n",
       "      <td>1.625894</td>\n",
       "      <td>2.000000</td>\n",
       "      <td>5.000000</td>\n",
       "      <td>6.000000</td>\n",
       "      <td>7.000000</td>\n",
       "      <td>14.000000</td>\n",
       "    </tr>\n",
       "    <tr>\n",
       "      <th>Fireplaces</th>\n",
       "      <td>1459.0</td>\n",
       "      <td>0.613434</td>\n",
       "      <td>0.644687</td>\n",
       "      <td>0.000000</td>\n",
       "      <td>0.000000</td>\n",
       "      <td>1.000000</td>\n",
       "      <td>1.000000</td>\n",
       "      <td>3.000000</td>\n",
       "    </tr>\n",
       "    <tr>\n",
       "      <th>Garage_Built_Year</th>\n",
       "      <td>1378.0</td>\n",
       "      <td>1978.515965</td>\n",
       "      <td>24.696004</td>\n",
       "      <td>1900.000000</td>\n",
       "      <td>1961.000000</td>\n",
       "      <td>1980.000000</td>\n",
       "      <td>2002.000000</td>\n",
       "      <td>2010.000000</td>\n",
       "    </tr>\n",
       "    <tr>\n",
       "      <th>Garage_Size</th>\n",
       "      <td>1459.0</td>\n",
       "      <td>1.767649</td>\n",
       "      <td>0.747301</td>\n",
       "      <td>0.000000</td>\n",
       "      <td>1.000000</td>\n",
       "      <td>2.000000</td>\n",
       "      <td>2.000000</td>\n",
       "      <td>4.000000</td>\n",
       "    </tr>\n",
       "    <tr>\n",
       "      <th>Garage_Area</th>\n",
       "      <td>1459.0</td>\n",
       "      <td>470.934787</td>\n",
       "      <td>210.668787</td>\n",
       "      <td>-129.369350</td>\n",
       "      <td>329.290489</td>\n",
       "      <td>471.028116</td>\n",
       "      <td>607.184977</td>\n",
       "      <td>1147.488093</td>\n",
       "    </tr>\n",
       "    <tr>\n",
       "      <th>W_Deck_Area</th>\n",
       "      <td>1459.0</td>\n",
       "      <td>93.015667</td>\n",
       "      <td>124.796682</td>\n",
       "      <td>-338.112031</td>\n",
       "      <td>9.656026</td>\n",
       "      <td>92.803628</td>\n",
       "      <td>180.335986</td>\n",
       "      <td>572.298709</td>\n",
       "    </tr>\n",
       "    <tr>\n",
       "      <th>Open_Lobby_Area</th>\n",
       "      <td>1459.0</td>\n",
       "      <td>47.811902</td>\n",
       "      <td>67.467586</td>\n",
       "      <td>-187.149958</td>\n",
       "      <td>1.843186</td>\n",
       "      <td>46.837919</td>\n",
       "      <td>96.523486</td>\n",
       "      <td>255.362547</td>\n",
       "    </tr>\n",
       "    <tr>\n",
       "      <th>Enclosed_Lobby_Area</th>\n",
       "      <td>1459.0</td>\n",
       "      <td>24.580227</td>\n",
       "      <td>61.353507</td>\n",
       "      <td>-164.807386</td>\n",
       "      <td>-16.807302</td>\n",
       "      <td>25.026953</td>\n",
       "      <td>66.237591</td>\n",
       "      <td>225.762714</td>\n",
       "    </tr>\n",
       "    <tr>\n",
       "      <th>Three_Season_Lobby_Area</th>\n",
       "      <td>1459.0</td>\n",
       "      <td>3.411926</td>\n",
       "      <td>29.327247</td>\n",
       "      <td>0.000000</td>\n",
       "      <td>0.000000</td>\n",
       "      <td>0.000000</td>\n",
       "      <td>0.000000</td>\n",
       "      <td>508.000000</td>\n",
       "    </tr>\n",
       "    <tr>\n",
       "      <th>Screen_Lobby_Area</th>\n",
       "      <td>1459.0</td>\n",
       "      <td>15.071282</td>\n",
       "      <td>55.775138</td>\n",
       "      <td>0.000000</td>\n",
       "      <td>0.000000</td>\n",
       "      <td>0.000000</td>\n",
       "      <td>0.000000</td>\n",
       "      <td>480.000000</td>\n",
       "    </tr>\n",
       "    <tr>\n",
       "      <th>Pool_Area</th>\n",
       "      <td>1459.0</td>\n",
       "      <td>2.760795</td>\n",
       "      <td>40.191018</td>\n",
       "      <td>0.000000</td>\n",
       "      <td>0.000000</td>\n",
       "      <td>0.000000</td>\n",
       "      <td>0.000000</td>\n",
       "      <td>738.000000</td>\n",
       "    </tr>\n",
       "    <tr>\n",
       "      <th>Miscellaneous_Value</th>\n",
       "      <td>1459.0</td>\n",
       "      <td>43.518849</td>\n",
       "      <td>496.291826</td>\n",
       "      <td>0.000000</td>\n",
       "      <td>0.000000</td>\n",
       "      <td>0.000000</td>\n",
       "      <td>0.000000</td>\n",
       "      <td>15500.000000</td>\n",
       "    </tr>\n",
       "    <tr>\n",
       "      <th>Month_Sold</th>\n",
       "      <td>1459.0</td>\n",
       "      <td>6.322138</td>\n",
       "      <td>2.704540</td>\n",
       "      <td>1.000000</td>\n",
       "      <td>5.000000</td>\n",
       "      <td>6.000000</td>\n",
       "      <td>8.000000</td>\n",
       "      <td>12.000000</td>\n",
       "    </tr>\n",
       "    <tr>\n",
       "      <th>Year_Sold</th>\n",
       "      <td>1459.0</td>\n",
       "      <td>2007.815627</td>\n",
       "      <td>1.328542</td>\n",
       "      <td>2006.000000</td>\n",
       "      <td>2007.000000</td>\n",
       "      <td>2008.000000</td>\n",
       "      <td>2009.000000</td>\n",
       "      <td>2010.000000</td>\n",
       "    </tr>\n",
       "    <tr>\n",
       "      <th>Sale_Price</th>\n",
       "      <td>1459.0</td>\n",
       "      <td>180944.102810</td>\n",
       "      <td>79464.918335</td>\n",
       "      <td>34900.000000</td>\n",
       "      <td>129950.000000</td>\n",
       "      <td>163000.000000</td>\n",
       "      <td>214000.000000</td>\n",
       "      <td>755000.000000</td>\n",
       "    </tr>\n",
       "  </tbody>\n",
       "</table>\n",
       "</div>"
      ],
      "text/plain": [
       "                            count           mean           std           min            25%            50%            75%            max\n",
       "Building_Class             1459.0  56.922550      42.304033     20.000000     20.000000      50.000000      70.000000      190.000000   \n",
       "Lot_Extent                 1200.0  70.045833      24.294456     21.000000     59.000000      69.000000      80.000000      313.000000   \n",
       "Lot_Size                   1459.0  10517.225497   9984.675721   1300.000000   7549.000000    9477.000000    11603.000000   215245.000000\n",
       "Overall_Material           1459.0  6.100069       1.383171      1.000000      5.000000       6.000000       7.000000       10.000000    \n",
       "House_Condition            1459.0  5.575051       1.113125      1.000000      5.000000       5.000000       6.000000       9.000000     \n",
       "Construction_Year          1459.0  1971.272104    30.212814     1872.000000   1954.000000    1973.000000    2000.000000    2010.000000  \n",
       "Remodel_Year               1459.0  1984.879369    20.645927     1950.000000   1967.000000    1994.000000    2004.000000    2010.000000  \n",
       "Brick_Veneer_Area          1451.0  103.756720     181.108150    0.000000      0.000000       0.000000       166.000000     1600.000000  \n",
       "BsmtFinSF1                 1459.0  443.374914     456.142186    0.000000      0.000000       383.000000     712.000000     5644.000000  \n",
       "BsmtFinSF2                 1459.0  46.382454      161.248500    0.000000      0.000000       0.000000       0.000000       1474.000000  \n",
       "BsmtUnfSF                  1459.0  567.535984     441.874057    0.000000      223.500000     479.000000     808.000000     2336.000000  \n",
       "Total_Basement_Area        1459.0  1057.293352    438.824912    0.000000      795.500000     991.000000     1298.500000    6110.000000  \n",
       "First_Floor_Area           1459.0  1162.562714    386.712553    334.000000    882.000000     1086.000000    1391.500000    4692.000000  \n",
       "Second_Floor_Area          1459.0  347.230295     436.583480    0.000000      0.000000       0.000000       728.000000     2065.000000  \n",
       "LowQualFinSF               1459.0  5.848526       48.639512     0.000000      0.000000       0.000000       0.000000       572.000000   \n",
       "Grade_Living_Area          1459.0  1515.641535    525.616607    334.000000    1129.000000    1464.000000    1777.500000    5642.000000  \n",
       "Underground_Full_Bathroom  1459.0  0.424949       0.518870      0.000000      0.000000       0.000000       1.000000       3.000000     \n",
       "Underground_Half_Bathroom  1459.0  0.057574       0.238830      0.000000      0.000000       0.000000       0.000000       2.000000     \n",
       "Full_Bathroom_Above_Grade  1459.0  1.565456       0.550906      0.000000      1.000000       2.000000       2.000000       3.000000     \n",
       "Half_Bathroom_Above_Grade  1459.0  0.382454       0.502798      0.000000      0.000000       0.000000       1.000000       2.000000     \n",
       "Bedroom_Above_Grade        1459.0  2.866347       0.816050      0.000000      2.000000       3.000000       3.000000       8.000000     \n",
       "Kitchen_Above_Grade        1459.0  1.046607       0.220410      0.000000      1.000000       1.000000       1.000000       3.000000     \n",
       "Rooms_Above_Grade          1459.0  6.518163       1.625894      2.000000      5.000000       6.000000       7.000000       14.000000    \n",
       "Fireplaces                 1459.0  0.613434       0.644687      0.000000      0.000000       1.000000       1.000000       3.000000     \n",
       "Garage_Built_Year          1378.0  1978.515965    24.696004     1900.000000   1961.000000    1980.000000    2002.000000    2010.000000  \n",
       "Garage_Size                1459.0  1.767649       0.747301      0.000000      1.000000       2.000000       2.000000       4.000000     \n",
       "Garage_Area                1459.0  470.934787     210.668787   -129.369350    329.290489     471.028116     607.184977     1147.488093  \n",
       "W_Deck_Area                1459.0  93.015667      124.796682   -338.112031    9.656026       92.803628      180.335986     572.298709   \n",
       "Open_Lobby_Area            1459.0  47.811902      67.467586    -187.149958    1.843186       46.837919      96.523486      255.362547   \n",
       "Enclosed_Lobby_Area        1459.0  24.580227      61.353507    -164.807386   -16.807302      25.026953      66.237591      225.762714   \n",
       "Three_Season_Lobby_Area    1459.0  3.411926       29.327247     0.000000      0.000000       0.000000       0.000000       508.000000   \n",
       "Screen_Lobby_Area          1459.0  15.071282      55.775138     0.000000      0.000000       0.000000       0.000000       480.000000   \n",
       "Pool_Area                  1459.0  2.760795       40.191018     0.000000      0.000000       0.000000       0.000000       738.000000   \n",
       "Miscellaneous_Value        1459.0  43.518849      496.291826    0.000000      0.000000       0.000000       0.000000       15500.000000 \n",
       "Month_Sold                 1459.0  6.322138       2.704540      1.000000      5.000000       6.000000       8.000000       12.000000    \n",
       "Year_Sold                  1459.0  2007.815627    1.328542      2006.000000   2007.000000    2008.000000    2009.000000    2010.000000  \n",
       "Sale_Price                 1459.0  180944.102810  79464.918335  34900.000000  129950.000000  163000.000000  214000.000000  755000.000000"
      ]
     },
     "execution_count": 59,
     "metadata": {},
     "output_type": "execute_result"
    }
   ],
   "source": [
    "data.describe().T"
   ]
  },
  {
   "cell_type": "markdown",
   "metadata": {},
   "source": [
    "**Observation:**\n",
    "    \n",
    "    The wide difference between min and max values tell us that we have few outliers in our data.\n",
    "    \n",
    "    we can also drop all those columns where 75% of our observations is zero.\n",
    "    "
   ]
  },
  {
   "cell_type": "markdown",
   "metadata": {},
   "source": [
    "## check for missing values"
   ]
  },
  {
   "cell_type": "code",
   "execution_count": 60,
   "metadata": {},
   "outputs": [
    {
     "data": {
      "text/plain": [
       "Building_Class               0   \n",
       "Zoning_Class                 0   \n",
       "Lot_Extent                   259 \n",
       "Lot_Size                     0   \n",
       "Road_Type                    0   \n",
       "Lane_Type                    1368\n",
       "Property_Shape               0   \n",
       "Land_Outline                 0   \n",
       "Utility_Type                 0   \n",
       "Lot_Configuration            0   \n",
       "Property_Slope               0   \n",
       "Neighborhood                 0   \n",
       "Condition1                   0   \n",
       "Condition2                   0   \n",
       "House_Type                   0   \n",
       "House_Design                 0   \n",
       "Overall_Material             0   \n",
       "House_Condition              0   \n",
       "Construction_Year            0   \n",
       "Remodel_Year                 0   \n",
       "Roof_Design                  0   \n",
       "Roof_Quality                 0   \n",
       "Exterior1st                  0   \n",
       "Exterior2nd                  0   \n",
       "Brick_Veneer_Type            8   \n",
       "Brick_Veneer_Area            8   \n",
       "Exterior_Material            0   \n",
       "Exterior_Condition           0   \n",
       "Foundation_Type              0   \n",
       "Basement_Height              37  \n",
       "Basement_Condition           37  \n",
       "Exposure_Level               38  \n",
       "BsmtFinType1                 37  \n",
       "BsmtFinSF1                   0   \n",
       "BsmtFinType2                 38  \n",
       "BsmtFinSF2                   0   \n",
       "BsmtUnfSF                    0   \n",
       "Total_Basement_Area          0   \n",
       "Heating_Type                 0   \n",
       "Heating_Quality              0   \n",
       "Air_Conditioning             0   \n",
       "Electrical_System            1   \n",
       "First_Floor_Area             0   \n",
       "Second_Floor_Area            0   \n",
       "LowQualFinSF                 0   \n",
       "Grade_Living_Area            0   \n",
       "Underground_Full_Bathroom    0   \n",
       "Underground_Half_Bathroom    0   \n",
       "Full_Bathroom_Above_Grade    0   \n",
       "Half_Bathroom_Above_Grade    0   \n",
       "Bedroom_Above_Grade          0   \n",
       "Kitchen_Above_Grade          0   \n",
       "Kitchen_Quality              0   \n",
       "Rooms_Above_Grade            0   \n",
       "Functional_Rate              0   \n",
       "Fireplaces                   0   \n",
       "Fireplace_Quality            689 \n",
       "Garage                       81  \n",
       "Garage_Built_Year            81  \n",
       "Garage_Finish_Year           81  \n",
       "Garage_Size                  0   \n",
       "Garage_Area                  0   \n",
       "Garage_Quality               81  \n",
       "Garage_Condition             81  \n",
       "Pavedd_Drive                 0   \n",
       "W_Deck_Area                  0   \n",
       "Open_Lobby_Area              0   \n",
       "Enclosed_Lobby_Area          0   \n",
       "Three_Season_Lobby_Area      0   \n",
       "Screen_Lobby_Area            0   \n",
       "Pool_Area                    0   \n",
       "Pool_Quality                 1452\n",
       "Fence_Quality                1178\n",
       "Miscellaneous_Feature        1405\n",
       "Miscellaneous_Value          0   \n",
       "Month_Sold                   0   \n",
       "Year_Sold                    0   \n",
       "Sale_Type                    0   \n",
       "Sale_Condition               0   \n",
       "Sale_Price                   0   \n",
       "dtype: int64"
      ]
     },
     "execution_count": 60,
     "metadata": {},
     "output_type": "execute_result"
    }
   ],
   "source": [
    "data.isnull().sum()"
   ]
  },
  {
   "cell_type": "markdown",
   "metadata": {},
   "source": [
    "## Display only missing columns in percentage"
   ]
  },
  {
   "cell_type": "code",
   "execution_count": 61,
   "metadata": {},
   "outputs": [
    {
     "data": {
      "text/plain": [
       "Electrical_System        0.068540 \n",
       "Brick_Veneer_Type        0.548321 \n",
       "Brick_Veneer_Area        0.548321 \n",
       "Basement_Height          2.535984 \n",
       "Basement_Condition       2.535984 \n",
       "BsmtFinType1             2.535984 \n",
       "Exposure_Level           2.604524 \n",
       "BsmtFinType2             2.604524 \n",
       "Garage_Condition         5.551748 \n",
       "Garage_Quality           5.551748 \n",
       "Garage_Finish_Year       5.551748 \n",
       "Garage                   5.551748 \n",
       "Garage_Built_Year        5.551748 \n",
       "Lot_Extent               17.751885\n",
       "Fireplace_Quality        47.224126\n",
       "Fence_Quality            80.740233\n",
       "Lane_Type                93.762851\n",
       "Miscellaneous_Feature    96.298835\n",
       "Pool_Quality             99.520219\n",
       "dtype: float64"
      ]
     },
     "execution_count": 61,
     "metadata": {},
     "output_type": "execute_result"
    }
   ],
   "source": [
    "missing = data.isnull().sum() *100 / len(data)\n",
    "missing = missing [missing > 0]\n",
    "missing.sort_values(inplace = True)\n",
    "missing"
   ]
  },
  {
   "cell_type": "markdown",
   "metadata": {},
   "source": [
    "Dropping of those columns which has more than 45% of missing data"
   ]
  },
  {
   "cell_type": "code",
   "execution_count": 62,
   "metadata": {},
   "outputs": [
    {
     "data": {
      "text/plain": [
       "Index(['Lane_Type', 'Fireplace_Quality', 'Pool_Quality', 'Fence_Quality',\n",
       "       'Miscellaneous_Feature'],\n",
       "      dtype='object')"
      ]
     },
     "execution_count": 62,
     "metadata": {},
     "output_type": "execute_result"
    }
   ],
   "source": [
    "data.columns[data.isnull().sum()*100/data.shape[0] > 45]"
   ]
  },
  {
   "cell_type": "code",
   "execution_count": 63,
   "metadata": {},
   "outputs": [],
   "source": [
    "data = data.drop(['Lane_Type', 'Fireplace_Quality', 'Pool_Quality', 'Fence_Quality',\n",
    "                   'Miscellaneous_Feature'], axis = 1)"
   ]
  },
  {
   "cell_type": "code",
   "execution_count": 64,
   "metadata": {},
   "outputs": [
    {
     "data": {
      "text/plain": [
       "(1459, 75)"
      ]
     },
     "execution_count": 64,
     "metadata": {},
     "output_type": "execute_result"
    }
   ],
   "source": [
    "data.shape"
   ]
  },
  {
   "cell_type": "code",
   "execution_count": 65,
   "metadata": {},
   "outputs": [
    {
     "name": "stdout",
     "output_type": "stream",
     "text": [
      "<class 'pandas.core.frame.DataFrame'>\n",
      "Int64Index: 1459 entries, 1 to 1459\n",
      "Data columns (total 75 columns):\n",
      " #   Column                     Non-Null Count  Dtype  \n",
      "---  ------                     --------------  -----  \n",
      " 0   Building_Class             1459 non-null   int64  \n",
      " 1   Zoning_Class               1459 non-null   object \n",
      " 2   Lot_Extent                 1200 non-null   float64\n",
      " 3   Lot_Size                   1459 non-null   int64  \n",
      " 4   Road_Type                  1459 non-null   object \n",
      " 5   Property_Shape             1459 non-null   object \n",
      " 6   Land_Outline               1459 non-null   object \n",
      " 7   Utility_Type               1459 non-null   object \n",
      " 8   Lot_Configuration          1459 non-null   object \n",
      " 9   Property_Slope             1459 non-null   object \n",
      " 10  Neighborhood               1459 non-null   object \n",
      " 11  Condition1                 1459 non-null   object \n",
      " 12  Condition2                 1459 non-null   object \n",
      " 13  House_Type                 1459 non-null   object \n",
      " 14  House_Design               1459 non-null   object \n",
      " 15  Overall_Material           1459 non-null   int64  \n",
      " 16  House_Condition            1459 non-null   int64  \n",
      " 17  Construction_Year          1459 non-null   int64  \n",
      " 18  Remodel_Year               1459 non-null   int64  \n",
      " 19  Roof_Design                1459 non-null   object \n",
      " 20  Roof_Quality               1459 non-null   object \n",
      " 21  Exterior1st                1459 non-null   object \n",
      " 22  Exterior2nd                1459 non-null   object \n",
      " 23  Brick_Veneer_Type          1451 non-null   object \n",
      " 24  Brick_Veneer_Area          1451 non-null   float64\n",
      " 25  Exterior_Material          1459 non-null   object \n",
      " 26  Exterior_Condition         1459 non-null   object \n",
      " 27  Foundation_Type            1459 non-null   object \n",
      " 28  Basement_Height            1422 non-null   object \n",
      " 29  Basement_Condition         1422 non-null   object \n",
      " 30  Exposure_Level             1421 non-null   object \n",
      " 31  BsmtFinType1               1422 non-null   object \n",
      " 32  BsmtFinSF1                 1459 non-null   int64  \n",
      " 33  BsmtFinType2               1421 non-null   object \n",
      " 34  BsmtFinSF2                 1459 non-null   int64  \n",
      " 35  BsmtUnfSF                  1459 non-null   int64  \n",
      " 36  Total_Basement_Area        1459 non-null   int64  \n",
      " 37  Heating_Type               1459 non-null   object \n",
      " 38  Heating_Quality            1459 non-null   object \n",
      " 39  Air_Conditioning           1459 non-null   object \n",
      " 40  Electrical_System          1458 non-null   object \n",
      " 41  First_Floor_Area           1459 non-null   int64  \n",
      " 42  Second_Floor_Area          1459 non-null   int64  \n",
      " 43  LowQualFinSF               1459 non-null   int64  \n",
      " 44  Grade_Living_Area          1459 non-null   int64  \n",
      " 45  Underground_Full_Bathroom  1459 non-null   int64  \n",
      " 46  Underground_Half_Bathroom  1459 non-null   int64  \n",
      " 47  Full_Bathroom_Above_Grade  1459 non-null   int64  \n",
      " 48  Half_Bathroom_Above_Grade  1459 non-null   int64  \n",
      " 49  Bedroom_Above_Grade        1459 non-null   int64  \n",
      " 50  Kitchen_Above_Grade        1459 non-null   int64  \n",
      " 51  Kitchen_Quality            1459 non-null   object \n",
      " 52  Rooms_Above_Grade          1459 non-null   int64  \n",
      " 53  Functional_Rate            1459 non-null   object \n",
      " 54  Fireplaces                 1459 non-null   int64  \n",
      " 55  Garage                     1378 non-null   object \n",
      " 56  Garage_Built_Year          1378 non-null   float64\n",
      " 57  Garage_Finish_Year         1378 non-null   object \n",
      " 58  Garage_Size                1459 non-null   int64  \n",
      " 59  Garage_Area                1459 non-null   float64\n",
      " 60  Garage_Quality             1378 non-null   object \n",
      " 61  Garage_Condition           1378 non-null   object \n",
      " 62  Pavedd_Drive               1459 non-null   object \n",
      " 63  W_Deck_Area                1459 non-null   float64\n",
      " 64  Open_Lobby_Area            1459 non-null   float64\n",
      " 65  Enclosed_Lobby_Area        1459 non-null   float64\n",
      " 66  Three_Season_Lobby_Area    1459 non-null   int64  \n",
      " 67  Screen_Lobby_Area          1459 non-null   int64  \n",
      " 68  Pool_Area                  1459 non-null   int64  \n",
      " 69  Miscellaneous_Value        1459 non-null   int64  \n",
      " 70  Month_Sold                 1459 non-null   int64  \n",
      " 71  Year_Sold                  1459 non-null   int64  \n",
      " 72  Sale_Type                  1459 non-null   object \n",
      " 73  Sale_Condition             1459 non-null   object \n",
      " 74  Sale_Price                 1459 non-null   int64  \n",
      "dtypes: float64(7), int64(30), object(38)\n",
      "memory usage: 866.3+ KB\n"
     ]
    }
   ],
   "source": [
    "data.info()"
   ]
  },
  {
   "cell_type": "code",
   "execution_count": 66,
   "metadata": {},
   "outputs": [],
   "source": [
    "cat_null_cols = ['Electrical_System', 'Brick_Veneer_Type', 'Basement_Height', 'Basement_Condition',\n",
    "                 'BsmtFinType1', 'Exposure_Level', 'BsmtFinType2', 'Garage_Condition', 'Garage_Quality',\n",
    "                 'Garage_Finish_Year', 'Garage']"
   ]
  },
  {
   "cell_type": "code",
   "execution_count": 67,
   "metadata": {},
   "outputs": [
    {
     "data": {
      "text/plain": [
       "SBrkr    1333\n",
       "FuseA    94  \n",
       "FuseF    27  \n",
       "FuseP    3   \n",
       "Mix      1   \n",
       "Name: Electrical_System, dtype: int64"
      ]
     },
     "execution_count": 67,
     "metadata": {},
     "output_type": "execute_result"
    }
   ],
   "source": [
    "data.Electrical_System.value_counts()"
   ]
  },
  {
   "cell_type": "code",
   "execution_count": 68,
   "metadata": {},
   "outputs": [
    {
     "data": {
      "text/plain": [
       "None       863\n",
       "BrkFace    445\n",
       "Stone      128\n",
       "BrkCmn     15 \n",
       "Name: Brick_Veneer_Type, dtype: int64"
      ]
     },
     "execution_count": 68,
     "metadata": {},
     "output_type": "execute_result"
    }
   ],
   "source": [
    "data.Brick_Veneer_Type.value_counts()"
   ]
  },
  {
   "cell_type": "code",
   "execution_count": 69,
   "metadata": {},
   "outputs": [
    {
     "data": {
      "text/plain": [
       "TA    648\n",
       "Gd    618\n",
       "Ex    121\n",
       "Fa    35 \n",
       "Name: Basement_Height, dtype: int64"
      ]
     },
     "execution_count": 69,
     "metadata": {},
     "output_type": "execute_result"
    }
   ],
   "source": [
    "data.Basement_Height.value_counts()"
   ]
  },
  {
   "cell_type": "code",
   "execution_count": 70,
   "metadata": {},
   "outputs": [
    {
     "data": {
      "text/plain": [
       "TA    1310\n",
       "Gd    65  \n",
       "Fa    45  \n",
       "Po    2   \n",
       "Name: Basement_Condition, dtype: int64"
      ]
     },
     "execution_count": 70,
     "metadata": {},
     "output_type": "execute_result"
    }
   ],
   "source": [
    "data.Basement_Condition.value_counts()"
   ]
  },
  {
   "cell_type": "code",
   "execution_count": 71,
   "metadata": {},
   "outputs": [
    {
     "data": {
      "text/plain": [
       "Unf    430\n",
       "GLQ    418\n",
       "ALQ    220\n",
       "BLQ    147\n",
       "Rec    133\n",
       "LwQ    74 \n",
       "Name: BsmtFinType1, dtype: int64"
      ]
     },
     "execution_count": 71,
     "metadata": {},
     "output_type": "execute_result"
    }
   ],
   "source": [
    "data.BsmtFinType1.value_counts()"
   ]
  },
  {
   "cell_type": "code",
   "execution_count": 72,
   "metadata": {},
   "outputs": [
    {
     "data": {
      "text/plain": [
       "No    952\n",
       "Av    221\n",
       "Gd    134\n",
       "Mn    114\n",
       "Name: Exposure_Level, dtype: int64"
      ]
     },
     "execution_count": 72,
     "metadata": {},
     "output_type": "execute_result"
    }
   ],
   "source": [
    "data.Exposure_Level.value_counts()"
   ]
  },
  {
   "cell_type": "code",
   "execution_count": 73,
   "metadata": {},
   "outputs": [
    {
     "data": {
      "text/plain": [
       "Unf    1256\n",
       "Rec    54  \n",
       "LwQ    45  \n",
       "BLQ    33  \n",
       "ALQ    19  \n",
       "GLQ    14  \n",
       "Name: BsmtFinType2, dtype: int64"
      ]
     },
     "execution_count": 73,
     "metadata": {},
     "output_type": "execute_result"
    }
   ],
   "source": [
    "data.BsmtFinType2.value_counts()"
   ]
  },
  {
   "cell_type": "code",
   "execution_count": 74,
   "metadata": {},
   "outputs": [
    {
     "data": {
      "text/plain": [
       "TA    1325\n",
       "Fa    35  \n",
       "Gd    9   \n",
       "Po    7   \n",
       "Ex    2   \n",
       "Name: Garage_Condition, dtype: int64"
      ]
     },
     "execution_count": 74,
     "metadata": {},
     "output_type": "execute_result"
    }
   ],
   "source": [
    "data.Garage_Condition.value_counts()"
   ]
  },
  {
   "cell_type": "code",
   "execution_count": 75,
   "metadata": {},
   "outputs": [
    {
     "data": {
      "text/plain": [
       "TA    1310\n",
       "Fa    48  \n",
       "Gd    14  \n",
       "Ex    3   \n",
       "Po    3   \n",
       "Name: Garage_Quality, dtype: int64"
      ]
     },
     "execution_count": 75,
     "metadata": {},
     "output_type": "execute_result"
    }
   ],
   "source": [
    "data.Garage_Quality.value_counts()"
   ]
  },
  {
   "cell_type": "code",
   "execution_count": 76,
   "metadata": {},
   "outputs": [
    {
     "data": {
      "text/plain": [
       "Unf    605\n",
       "RFn    422\n",
       "Fin    351\n",
       "Name: Garage_Finish_Year, dtype: int64"
      ]
     },
     "execution_count": 76,
     "metadata": {},
     "output_type": "execute_result"
    }
   ],
   "source": [
    "data.Garage_Finish_Year.value_counts()"
   ]
  },
  {
   "cell_type": "code",
   "execution_count": 77,
   "metadata": {},
   "outputs": [
    {
     "data": {
      "text/plain": [
       "Attchd     869\n",
       "Detchd     387\n",
       "BuiltIn    88 \n",
       "Basment    19 \n",
       "CarPort    9  \n",
       "2TFes      5  \n",
       "2Types     1  \n",
       "Name: Garage, dtype: int64"
      ]
     },
     "execution_count": 77,
     "metadata": {},
     "output_type": "execute_result"
    }
   ],
   "source": [
    "data.Garage.value_counts()"
   ]
  },
  {
   "cell_type": "markdown",
   "metadata": {},
   "source": [
    "## Imputation"
   ]
  },
  {
   "cell_type": "code",
   "execution_count": 78,
   "metadata": {},
   "outputs": [],
   "source": [
    "from sklearn.impute import SimpleImputer"
   ]
  },
  {
   "cell_type": "code",
   "execution_count": 79,
   "metadata": {},
   "outputs": [],
   "source": [
    "cat_imputer = SimpleImputer(strategy='most_frequent')"
   ]
  },
  {
   "cell_type": "code",
   "execution_count": 80,
   "metadata": {},
   "outputs": [],
   "source": [
    "cat_imputer.fit(data[cat_null_cols])\n",
    "\n",
    "data[cat_null_cols] = cat_imputer.transform(data[cat_null_cols])  "
   ]
  },
  {
   "cell_type": "code",
   "execution_count": 81,
   "metadata": {},
   "outputs": [
    {
     "data": {
      "text/plain": [
       "70.04583333333333"
      ]
     },
     "execution_count": 81,
     "metadata": {},
     "output_type": "execute_result"
    }
   ],
   "source": [
    "data['Lot_Extent'].mean()"
   ]
  },
  {
   "cell_type": "code",
   "execution_count": 82,
   "metadata": {},
   "outputs": [
    {
     "data": {
      "text/plain": [
       "103.75671950379049"
      ]
     },
     "execution_count": 82,
     "metadata": {},
     "output_type": "execute_result"
    }
   ],
   "source": [
    "data['Brick_Veneer_Area'].mean()"
   ]
  },
  {
   "cell_type": "code",
   "execution_count": 83,
   "metadata": {},
   "outputs": [
    {
     "data": {
      "text/plain": [
       "1978.5159651669085"
      ]
     },
     "execution_count": 83,
     "metadata": {},
     "output_type": "execute_result"
    }
   ],
   "source": [
    "data['Garage_Built_Year'].mean()"
   ]
  },
  {
   "cell_type": "code",
   "execution_count": 84,
   "metadata": {},
   "outputs": [],
   "source": [
    "data['Lot_Extent'] = data['Lot_Extent'].replace(np.nan, 70)\n",
    "\n",
    "data['Brick_Veneer_Area'] = data['Brick_Veneer_Area'].replace(np.nan, 100)\n",
    "\n",
    "data['Garage_Built_Year'] = data['Garage_Built_Year'].replace(np.nan, 1978)"
   ]
  },
  {
   "cell_type": "code",
   "execution_count": 85,
   "metadata": {},
   "outputs": [
    {
     "data": {
      "text/plain": [
       "Building_Class               0\n",
       "Zoning_Class                 0\n",
       "Lot_Extent                   0\n",
       "Lot_Size                     0\n",
       "Road_Type                    0\n",
       "Property_Shape               0\n",
       "Land_Outline                 0\n",
       "Utility_Type                 0\n",
       "Lot_Configuration            0\n",
       "Property_Slope               0\n",
       "Neighborhood                 0\n",
       "Condition1                   0\n",
       "Condition2                   0\n",
       "House_Type                   0\n",
       "House_Design                 0\n",
       "Overall_Material             0\n",
       "House_Condition              0\n",
       "Construction_Year            0\n",
       "Remodel_Year                 0\n",
       "Roof_Design                  0\n",
       "Roof_Quality                 0\n",
       "Exterior1st                  0\n",
       "Exterior2nd                  0\n",
       "Brick_Veneer_Type            0\n",
       "Brick_Veneer_Area            0\n",
       "Exterior_Material            0\n",
       "Exterior_Condition           0\n",
       "Foundation_Type              0\n",
       "Basement_Height              0\n",
       "Basement_Condition           0\n",
       "Exposure_Level               0\n",
       "BsmtFinType1                 0\n",
       "BsmtFinSF1                   0\n",
       "BsmtFinType2                 0\n",
       "BsmtFinSF2                   0\n",
       "BsmtUnfSF                    0\n",
       "Total_Basement_Area          0\n",
       "Heating_Type                 0\n",
       "Heating_Quality              0\n",
       "Air_Conditioning             0\n",
       "Electrical_System            0\n",
       "First_Floor_Area             0\n",
       "Second_Floor_Area            0\n",
       "LowQualFinSF                 0\n",
       "Grade_Living_Area            0\n",
       "Underground_Full_Bathroom    0\n",
       "Underground_Half_Bathroom    0\n",
       "Full_Bathroom_Above_Grade    0\n",
       "Half_Bathroom_Above_Grade    0\n",
       "Bedroom_Above_Grade          0\n",
       "Kitchen_Above_Grade          0\n",
       "Kitchen_Quality              0\n",
       "Rooms_Above_Grade            0\n",
       "Functional_Rate              0\n",
       "Fireplaces                   0\n",
       "Garage                       0\n",
       "Garage_Built_Year            0\n",
       "Garage_Finish_Year           0\n",
       "Garage_Size                  0\n",
       "Garage_Area                  0\n",
       "Garage_Quality               0\n",
       "Garage_Condition             0\n",
       "Pavedd_Drive                 0\n",
       "W_Deck_Area                  0\n",
       "Open_Lobby_Area              0\n",
       "Enclosed_Lobby_Area          0\n",
       "Three_Season_Lobby_Area      0\n",
       "Screen_Lobby_Area            0\n",
       "Pool_Area                    0\n",
       "Miscellaneous_Value          0\n",
       "Month_Sold                   0\n",
       "Year_Sold                    0\n",
       "Sale_Type                    0\n",
       "Sale_Condition               0\n",
       "Sale_Price                   0\n",
       "dtype: int64"
      ]
     },
     "execution_count": 85,
     "metadata": {},
     "output_type": "execute_result"
    }
   ],
   "source": [
    "data.isnull().sum()"
   ]
  },
  {
   "cell_type": "code",
   "execution_count": 86,
   "metadata": {},
   "outputs": [],
   "source": [
    "from sklearn.preprocessing import LabelEncoder\n",
    "le = LabelEncoder()"
   ]
  },
  {
   "cell_type": "code",
   "execution_count": 87,
   "metadata": {},
   "outputs": [],
   "source": [
    "data[data.select_dtypes(include = ['object']).columns] = data[data.select_dtypes(include = ['object']).columns].apply(le.fit_transform)"
   ]
  },
  {
   "cell_type": "code",
   "execution_count": 88,
   "metadata": {},
   "outputs": [
    {
     "data": {
      "text/html": [
       "<div>\n",
       "<style scoped>\n",
       "    .dataframe tbody tr th:only-of-type {\n",
       "        vertical-align: middle;\n",
       "    }\n",
       "\n",
       "    .dataframe tbody tr th {\n",
       "        vertical-align: top;\n",
       "    }\n",
       "\n",
       "    .dataframe thead th {\n",
       "        text-align: right;\n",
       "    }\n",
       "</style>\n",
       "<table border=\"1\" class=\"dataframe\">\n",
       "  <thead>\n",
       "    <tr style=\"text-align: right;\">\n",
       "      <th></th>\n",
       "      <th>Building_Class</th>\n",
       "      <th>Zoning_Class</th>\n",
       "      <th>Lot_Extent</th>\n",
       "      <th>Lot_Size</th>\n",
       "      <th>Road_Type</th>\n",
       "      <th>Property_Shape</th>\n",
       "      <th>Land_Outline</th>\n",
       "      <th>Utility_Type</th>\n",
       "      <th>Lot_Configuration</th>\n",
       "      <th>Property_Slope</th>\n",
       "      <th>Neighborhood</th>\n",
       "      <th>Condition1</th>\n",
       "      <th>Condition2</th>\n",
       "      <th>House_Type</th>\n",
       "      <th>House_Design</th>\n",
       "      <th>Overall_Material</th>\n",
       "      <th>House_Condition</th>\n",
       "      <th>Construction_Year</th>\n",
       "      <th>Remodel_Year</th>\n",
       "      <th>Roof_Design</th>\n",
       "      <th>Roof_Quality</th>\n",
       "      <th>Exterior1st</th>\n",
       "      <th>Exterior2nd</th>\n",
       "      <th>Brick_Veneer_Type</th>\n",
       "      <th>Brick_Veneer_Area</th>\n",
       "      <th>Exterior_Material</th>\n",
       "      <th>Exterior_Condition</th>\n",
       "      <th>Foundation_Type</th>\n",
       "      <th>Basement_Height</th>\n",
       "      <th>Basement_Condition</th>\n",
       "      <th>Exposure_Level</th>\n",
       "      <th>BsmtFinType1</th>\n",
       "      <th>BsmtFinSF1</th>\n",
       "      <th>BsmtFinType2</th>\n",
       "      <th>BsmtFinSF2</th>\n",
       "      <th>BsmtUnfSF</th>\n",
       "      <th>Total_Basement_Area</th>\n",
       "      <th>Heating_Type</th>\n",
       "      <th>Heating_Quality</th>\n",
       "      <th>Air_Conditioning</th>\n",
       "      <th>Electrical_System</th>\n",
       "      <th>First_Floor_Area</th>\n",
       "      <th>Second_Floor_Area</th>\n",
       "      <th>LowQualFinSF</th>\n",
       "      <th>Grade_Living_Area</th>\n",
       "      <th>Underground_Full_Bathroom</th>\n",
       "      <th>Underground_Half_Bathroom</th>\n",
       "      <th>Full_Bathroom_Above_Grade</th>\n",
       "      <th>Half_Bathroom_Above_Grade</th>\n",
       "      <th>Bedroom_Above_Grade</th>\n",
       "      <th>Kitchen_Above_Grade</th>\n",
       "      <th>Kitchen_Quality</th>\n",
       "      <th>Rooms_Above_Grade</th>\n",
       "      <th>Functional_Rate</th>\n",
       "      <th>Fireplaces</th>\n",
       "      <th>Garage</th>\n",
       "      <th>Garage_Built_Year</th>\n",
       "      <th>Garage_Finish_Year</th>\n",
       "      <th>Garage_Size</th>\n",
       "      <th>Garage_Area</th>\n",
       "      <th>Garage_Quality</th>\n",
       "      <th>Garage_Condition</th>\n",
       "      <th>Pavedd_Drive</th>\n",
       "      <th>W_Deck_Area</th>\n",
       "      <th>Open_Lobby_Area</th>\n",
       "      <th>Enclosed_Lobby_Area</th>\n",
       "      <th>Three_Season_Lobby_Area</th>\n",
       "      <th>Screen_Lobby_Area</th>\n",
       "      <th>Pool_Area</th>\n",
       "      <th>Miscellaneous_Value</th>\n",
       "      <th>Month_Sold</th>\n",
       "      <th>Year_Sold</th>\n",
       "      <th>Sale_Type</th>\n",
       "      <th>Sale_Condition</th>\n",
       "      <th>Sale_Price</th>\n",
       "    </tr>\n",
       "    <tr>\n",
       "      <th>Id</th>\n",
       "      <th></th>\n",
       "      <th></th>\n",
       "      <th></th>\n",
       "      <th></th>\n",
       "      <th></th>\n",
       "      <th></th>\n",
       "      <th></th>\n",
       "      <th></th>\n",
       "      <th></th>\n",
       "      <th></th>\n",
       "      <th></th>\n",
       "      <th></th>\n",
       "      <th></th>\n",
       "      <th></th>\n",
       "      <th></th>\n",
       "      <th></th>\n",
       "      <th></th>\n",
       "      <th></th>\n",
       "      <th></th>\n",
       "      <th></th>\n",
       "      <th></th>\n",
       "      <th></th>\n",
       "      <th></th>\n",
       "      <th></th>\n",
       "      <th></th>\n",
       "      <th></th>\n",
       "      <th></th>\n",
       "      <th></th>\n",
       "      <th></th>\n",
       "      <th></th>\n",
       "      <th></th>\n",
       "      <th></th>\n",
       "      <th></th>\n",
       "      <th></th>\n",
       "      <th></th>\n",
       "      <th></th>\n",
       "      <th></th>\n",
       "      <th></th>\n",
       "      <th></th>\n",
       "      <th></th>\n",
       "      <th></th>\n",
       "      <th></th>\n",
       "      <th></th>\n",
       "      <th></th>\n",
       "      <th></th>\n",
       "      <th></th>\n",
       "      <th></th>\n",
       "      <th></th>\n",
       "      <th></th>\n",
       "      <th></th>\n",
       "      <th></th>\n",
       "      <th></th>\n",
       "      <th></th>\n",
       "      <th></th>\n",
       "      <th></th>\n",
       "      <th></th>\n",
       "      <th></th>\n",
       "      <th></th>\n",
       "      <th></th>\n",
       "      <th></th>\n",
       "      <th></th>\n",
       "      <th></th>\n",
       "      <th></th>\n",
       "      <th></th>\n",
       "      <th></th>\n",
       "      <th></th>\n",
       "      <th></th>\n",
       "      <th></th>\n",
       "      <th></th>\n",
       "      <th></th>\n",
       "      <th></th>\n",
       "      <th></th>\n",
       "      <th></th>\n",
       "      <th></th>\n",
       "      <th></th>\n",
       "    </tr>\n",
       "  </thead>\n",
       "  <tbody>\n",
       "    <tr>\n",
       "      <th>1</th>\n",
       "      <td>60</td>\n",
       "      <td>3</td>\n",
       "      <td>65.0</td>\n",
       "      <td>8450</td>\n",
       "      <td>1</td>\n",
       "      <td>3</td>\n",
       "      <td>3</td>\n",
       "      <td>0</td>\n",
       "      <td>4</td>\n",
       "      <td>0</td>\n",
       "      <td>5</td>\n",
       "      <td>2</td>\n",
       "      <td>2</td>\n",
       "      <td>0</td>\n",
       "      <td>5</td>\n",
       "      <td>7</td>\n",
       "      <td>5</td>\n",
       "      <td>2003</td>\n",
       "      <td>2003</td>\n",
       "      <td>1</td>\n",
       "      <td>4</td>\n",
       "      <td>12</td>\n",
       "      <td>13</td>\n",
       "      <td>1</td>\n",
       "      <td>196.0</td>\n",
       "      <td>2</td>\n",
       "      <td>4</td>\n",
       "      <td>2</td>\n",
       "      <td>2</td>\n",
       "      <td>3</td>\n",
       "      <td>3</td>\n",
       "      <td>2</td>\n",
       "      <td>706</td>\n",
       "      <td>5</td>\n",
       "      <td>0</td>\n",
       "      <td>150</td>\n",
       "      <td>856</td>\n",
       "      <td>1</td>\n",
       "      <td>0</td>\n",
       "      <td>1</td>\n",
       "      <td>4</td>\n",
       "      <td>856</td>\n",
       "      <td>854</td>\n",
       "      <td>0</td>\n",
       "      <td>1710</td>\n",
       "      <td>1</td>\n",
       "      <td>0</td>\n",
       "      <td>2</td>\n",
       "      <td>1</td>\n",
       "      <td>3</td>\n",
       "      <td>1</td>\n",
       "      <td>2</td>\n",
       "      <td>8</td>\n",
       "      <td>7</td>\n",
       "      <td>0</td>\n",
       "      <td>2</td>\n",
       "      <td>2003.0</td>\n",
       "      <td>1</td>\n",
       "      <td>2</td>\n",
       "      <td>1085.793744</td>\n",
       "      <td>4</td>\n",
       "      <td>4</td>\n",
       "      <td>2</td>\n",
       "      <td>163.788080</td>\n",
       "      <td>69.596115</td>\n",
       "      <td>20.337934</td>\n",
       "      <td>0</td>\n",
       "      <td>0</td>\n",
       "      <td>0</td>\n",
       "      <td>0</td>\n",
       "      <td>2</td>\n",
       "      <td>2008</td>\n",
       "      <td>8</td>\n",
       "      <td>4</td>\n",
       "      <td>208500</td>\n",
       "    </tr>\n",
       "    <tr>\n",
       "      <th>2</th>\n",
       "      <td>20</td>\n",
       "      <td>3</td>\n",
       "      <td>80.0</td>\n",
       "      <td>9600</td>\n",
       "      <td>1</td>\n",
       "      <td>3</td>\n",
       "      <td>3</td>\n",
       "      <td>0</td>\n",
       "      <td>2</td>\n",
       "      <td>0</td>\n",
       "      <td>24</td>\n",
       "      <td>1</td>\n",
       "      <td>2</td>\n",
       "      <td>0</td>\n",
       "      <td>2</td>\n",
       "      <td>6</td>\n",
       "      <td>8</td>\n",
       "      <td>1976</td>\n",
       "      <td>1976</td>\n",
       "      <td>1</td>\n",
       "      <td>4</td>\n",
       "      <td>8</td>\n",
       "      <td>8</td>\n",
       "      <td>2</td>\n",
       "      <td>0.0</td>\n",
       "      <td>3</td>\n",
       "      <td>4</td>\n",
       "      <td>1</td>\n",
       "      <td>2</td>\n",
       "      <td>3</td>\n",
       "      <td>1</td>\n",
       "      <td>0</td>\n",
       "      <td>978</td>\n",
       "      <td>5</td>\n",
       "      <td>0</td>\n",
       "      <td>284</td>\n",
       "      <td>1262</td>\n",
       "      <td>1</td>\n",
       "      <td>0</td>\n",
       "      <td>1</td>\n",
       "      <td>4</td>\n",
       "      <td>1262</td>\n",
       "      <td>0</td>\n",
       "      <td>0</td>\n",
       "      <td>1262</td>\n",
       "      <td>0</td>\n",
       "      <td>1</td>\n",
       "      <td>2</td>\n",
       "      <td>0</td>\n",
       "      <td>3</td>\n",
       "      <td>1</td>\n",
       "      <td>3</td>\n",
       "      <td>6</td>\n",
       "      <td>7</td>\n",
       "      <td>1</td>\n",
       "      <td>2</td>\n",
       "      <td>1976.0</td>\n",
       "      <td>1</td>\n",
       "      <td>2</td>\n",
       "      <td>196.316304</td>\n",
       "      <td>4</td>\n",
       "      <td>4</td>\n",
       "      <td>2</td>\n",
       "      <td>198.900074</td>\n",
       "      <td>74.716033</td>\n",
       "      <td>15.039392</td>\n",
       "      <td>0</td>\n",
       "      <td>0</td>\n",
       "      <td>0</td>\n",
       "      <td>0</td>\n",
       "      <td>5</td>\n",
       "      <td>2007</td>\n",
       "      <td>8</td>\n",
       "      <td>4</td>\n",
       "      <td>181500</td>\n",
       "    </tr>\n",
       "    <tr>\n",
       "      <th>3</th>\n",
       "      <td>60</td>\n",
       "      <td>3</td>\n",
       "      <td>68.0</td>\n",
       "      <td>11250</td>\n",
       "      <td>1</td>\n",
       "      <td>0</td>\n",
       "      <td>3</td>\n",
       "      <td>0</td>\n",
       "      <td>4</td>\n",
       "      <td>0</td>\n",
       "      <td>5</td>\n",
       "      <td>2</td>\n",
       "      <td>2</td>\n",
       "      <td>0</td>\n",
       "      <td>5</td>\n",
       "      <td>7</td>\n",
       "      <td>5</td>\n",
       "      <td>2001</td>\n",
       "      <td>2002</td>\n",
       "      <td>1</td>\n",
       "      <td>4</td>\n",
       "      <td>12</td>\n",
       "      <td>13</td>\n",
       "      <td>1</td>\n",
       "      <td>162.0</td>\n",
       "      <td>2</td>\n",
       "      <td>4</td>\n",
       "      <td>2</td>\n",
       "      <td>2</td>\n",
       "      <td>3</td>\n",
       "      <td>2</td>\n",
       "      <td>2</td>\n",
       "      <td>486</td>\n",
       "      <td>5</td>\n",
       "      <td>0</td>\n",
       "      <td>434</td>\n",
       "      <td>920</td>\n",
       "      <td>1</td>\n",
       "      <td>0</td>\n",
       "      <td>1</td>\n",
       "      <td>4</td>\n",
       "      <td>920</td>\n",
       "      <td>866</td>\n",
       "      <td>0</td>\n",
       "      <td>1786</td>\n",
       "      <td>1</td>\n",
       "      <td>0</td>\n",
       "      <td>2</td>\n",
       "      <td>1</td>\n",
       "      <td>3</td>\n",
       "      <td>1</td>\n",
       "      <td>2</td>\n",
       "      <td>6</td>\n",
       "      <td>7</td>\n",
       "      <td>1</td>\n",
       "      <td>2</td>\n",
       "      <td>2001.0</td>\n",
       "      <td>1</td>\n",
       "      <td>2</td>\n",
       "      <td>218.068403</td>\n",
       "      <td>4</td>\n",
       "      <td>4</td>\n",
       "      <td>2</td>\n",
       "      <td>26.127533</td>\n",
       "      <td>32.085268</td>\n",
       "      <td>-46.232198</td>\n",
       "      <td>0</td>\n",
       "      <td>0</td>\n",
       "      <td>0</td>\n",
       "      <td>0</td>\n",
       "      <td>9</td>\n",
       "      <td>2008</td>\n",
       "      <td>8</td>\n",
       "      <td>4</td>\n",
       "      <td>223500</td>\n",
       "    </tr>\n",
       "    <tr>\n",
       "      <th>4</th>\n",
       "      <td>70</td>\n",
       "      <td>3</td>\n",
       "      <td>60.0</td>\n",
       "      <td>9550</td>\n",
       "      <td>1</td>\n",
       "      <td>0</td>\n",
       "      <td>3</td>\n",
       "      <td>0</td>\n",
       "      <td>0</td>\n",
       "      <td>0</td>\n",
       "      <td>6</td>\n",
       "      <td>2</td>\n",
       "      <td>2</td>\n",
       "      <td>0</td>\n",
       "      <td>5</td>\n",
       "      <td>7</td>\n",
       "      <td>5</td>\n",
       "      <td>1915</td>\n",
       "      <td>1970</td>\n",
       "      <td>1</td>\n",
       "      <td>4</td>\n",
       "      <td>13</td>\n",
       "      <td>15</td>\n",
       "      <td>2</td>\n",
       "      <td>0.0</td>\n",
       "      <td>3</td>\n",
       "      <td>4</td>\n",
       "      <td>0</td>\n",
       "      <td>3</td>\n",
       "      <td>1</td>\n",
       "      <td>3</td>\n",
       "      <td>0</td>\n",
       "      <td>216</td>\n",
       "      <td>5</td>\n",
       "      <td>0</td>\n",
       "      <td>540</td>\n",
       "      <td>756</td>\n",
       "      <td>1</td>\n",
       "      <td>2</td>\n",
       "      <td>1</td>\n",
       "      <td>4</td>\n",
       "      <td>961</td>\n",
       "      <td>756</td>\n",
       "      <td>0</td>\n",
       "      <td>1717</td>\n",
       "      <td>1</td>\n",
       "      <td>0</td>\n",
       "      <td>1</td>\n",
       "      <td>0</td>\n",
       "      <td>3</td>\n",
       "      <td>1</td>\n",
       "      <td>2</td>\n",
       "      <td>7</td>\n",
       "      <td>7</td>\n",
       "      <td>1</td>\n",
       "      <td>6</td>\n",
       "      <td>1998.0</td>\n",
       "      <td>2</td>\n",
       "      <td>3</td>\n",
       "      <td>696.996439</td>\n",
       "      <td>4</td>\n",
       "      <td>4</td>\n",
       "      <td>2</td>\n",
       "      <td>46.948018</td>\n",
       "      <td>40.181415</td>\n",
       "      <td>60.921821</td>\n",
       "      <td>0</td>\n",
       "      <td>0</td>\n",
       "      <td>0</td>\n",
       "      <td>0</td>\n",
       "      <td>2</td>\n",
       "      <td>2006</td>\n",
       "      <td>8</td>\n",
       "      <td>0</td>\n",
       "      <td>140000</td>\n",
       "    </tr>\n",
       "    <tr>\n",
       "      <th>5</th>\n",
       "      <td>60</td>\n",
       "      <td>3</td>\n",
       "      <td>84.0</td>\n",
       "      <td>14260</td>\n",
       "      <td>1</td>\n",
       "      <td>0</td>\n",
       "      <td>3</td>\n",
       "      <td>0</td>\n",
       "      <td>2</td>\n",
       "      <td>0</td>\n",
       "      <td>15</td>\n",
       "      <td>2</td>\n",
       "      <td>2</td>\n",
       "      <td>0</td>\n",
       "      <td>5</td>\n",
       "      <td>8</td>\n",
       "      <td>5</td>\n",
       "      <td>2000</td>\n",
       "      <td>2000</td>\n",
       "      <td>1</td>\n",
       "      <td>4</td>\n",
       "      <td>12</td>\n",
       "      <td>13</td>\n",
       "      <td>1</td>\n",
       "      <td>350.0</td>\n",
       "      <td>2</td>\n",
       "      <td>4</td>\n",
       "      <td>2</td>\n",
       "      <td>2</td>\n",
       "      <td>3</td>\n",
       "      <td>0</td>\n",
       "      <td>2</td>\n",
       "      <td>655</td>\n",
       "      <td>5</td>\n",
       "      <td>0</td>\n",
       "      <td>490</td>\n",
       "      <td>1145</td>\n",
       "      <td>1</td>\n",
       "      <td>0</td>\n",
       "      <td>1</td>\n",
       "      <td>4</td>\n",
       "      <td>1145</td>\n",
       "      <td>1053</td>\n",
       "      <td>0</td>\n",
       "      <td>2198</td>\n",
       "      <td>1</td>\n",
       "      <td>0</td>\n",
       "      <td>2</td>\n",
       "      <td>1</td>\n",
       "      <td>4</td>\n",
       "      <td>1</td>\n",
       "      <td>2</td>\n",
       "      <td>9</td>\n",
       "      <td>7</td>\n",
       "      <td>1</td>\n",
       "      <td>2</td>\n",
       "      <td>2000.0</td>\n",
       "      <td>1</td>\n",
       "      <td>3</td>\n",
       "      <td>568.859882</td>\n",
       "      <td>4</td>\n",
       "      <td>4</td>\n",
       "      <td>2</td>\n",
       "      <td>-10.626105</td>\n",
       "      <td>20.755323</td>\n",
       "      <td>21.788818</td>\n",
       "      <td>0</td>\n",
       "      <td>0</td>\n",
       "      <td>0</td>\n",
       "      <td>0</td>\n",
       "      <td>12</td>\n",
       "      <td>2008</td>\n",
       "      <td>8</td>\n",
       "      <td>4</td>\n",
       "      <td>250000</td>\n",
       "    </tr>\n",
       "  </tbody>\n",
       "</table>\n",
       "</div>"
      ],
      "text/plain": [
       "    Building_Class  Zoning_Class  Lot_Extent  Lot_Size  Road_Type  Property_Shape  Land_Outline  Utility_Type  Lot_Configuration  Property_Slope  Neighborhood  Condition1  Condition2  House_Type  House_Design  Overall_Material  House_Condition  Construction_Year  Remodel_Year  Roof_Design  Roof_Quality  Exterior1st  Exterior2nd  Brick_Veneer_Type  Brick_Veneer_Area  Exterior_Material  Exterior_Condition  Foundation_Type  Basement_Height  Basement_Condition  Exposure_Level  BsmtFinType1  BsmtFinSF1  BsmtFinType2  BsmtFinSF2  BsmtUnfSF  Total_Basement_Area  Heating_Type  Heating_Quality  Air_Conditioning  Electrical_System  First_Floor_Area  Second_Floor_Area  LowQualFinSF  Grade_Living_Area  Underground_Full_Bathroom  Underground_Half_Bathroom  Full_Bathroom_Above_Grade  Half_Bathroom_Above_Grade  Bedroom_Above_Grade  Kitchen_Above_Grade  Kitchen_Quality  Rooms_Above_Grade  Functional_Rate  Fireplaces  Garage  Garage_Built_Year  Garage_Finish_Year  Garage_Size  Garage_Area  Garage_Quality  Garage_Condition  Pavedd_Drive  W_Deck_Area  Open_Lobby_Area  Enclosed_Lobby_Area  Three_Season_Lobby_Area  Screen_Lobby_Area  Pool_Area  Miscellaneous_Value  Month_Sold  Year_Sold  Sale_Type  Sale_Condition  Sale_Price\n",
       "Id                                                                                                                                                                                                                                                                                                                                                                                                                                                                                                                                                                                                                                                                                                                                                                                                                                                                                                                                                                                                                                                                                                                                                                                                                                                                     \n",
       "1   60              3             65.0        8450      1          3               3             0             4                  0               5             2           2           0           5             7                 5                2003               2003          1            4             12           13           1                  196.0              2                  4                   2                2                3                   3               2             706         5             0           150        856                  1             0                1                 4                  856               854                0             1710               1                          0                          2                          1                          3                    1                    2                8                  7                0           2       2003.0             1                   2            1085.793744  4               4                 2             163.788080   69.596115        20.337934            0                        0                  0          0                    2           2008       8          4               208500    \n",
       "2   20              3             80.0        9600      1          3               3             0             2                  0               24            1           2           0           2             6                 8                1976               1976          1            4             8            8            2                  0.0                3                  4                   1                2                3                   1               0             978         5             0           284        1262                 1             0                1                 4                  1262              0                  0             1262               0                          1                          2                          0                          3                    1                    3                6                  7                1           2       1976.0             1                   2            196.316304   4               4                 2             198.900074   74.716033        15.039392            0                        0                  0          0                    5           2007       8          4               181500    \n",
       "3   60              3             68.0        11250     1          0               3             0             4                  0               5             2           2           0           5             7                 5                2001               2002          1            4             12           13           1                  162.0              2                  4                   2                2                3                   2               2             486         5             0           434        920                  1             0                1                 4                  920               866                0             1786               1                          0                          2                          1                          3                    1                    2                6                  7                1           2       2001.0             1                   2            218.068403   4               4                 2             26.127533    32.085268       -46.232198            0                        0                  0          0                    9           2008       8          4               223500    \n",
       "4   70              3             60.0        9550      1          0               3             0             0                  0               6             2           2           0           5             7                 5                1915               1970          1            4             13           15           2                  0.0                3                  4                   0                3                1                   3               0             216         5             0           540        756                  1             2                1                 4                  961               756                0             1717               1                          0                          1                          0                          3                    1                    2                7                  7                1           6       1998.0             2                   3            696.996439   4               4                 2             46.948018    40.181415        60.921821            0                        0                  0          0                    2           2006       8          0               140000    \n",
       "5   60              3             84.0        14260     1          0               3             0             2                  0               15            2           2           0           5             8                 5                2000               2000          1            4             12           13           1                  350.0              2                  4                   2                2                3                   0               2             655         5             0           490        1145                 1             0                1                 4                  1145              1053               0             2198               1                          0                          2                          1                          4                    1                    2                9                  7                1           2       2000.0             1                   3            568.859882   4               4                 2            -10.626105    20.755323        21.788818            0                        0                  0          0                    12          2008       8          4               250000    "
      ]
     },
     "execution_count": 88,
     "metadata": {},
     "output_type": "execute_result"
    }
   ],
   "source": [
    "data.head()"
   ]
  },
  {
   "cell_type": "markdown",
   "metadata": {},
   "source": [
    "## Train-Validation Split"
   ]
  },
  {
   "cell_type": "code",
   "execution_count": 89,
   "metadata": {},
   "outputs": [],
   "source": [
    "from sklearn.model_selection import train_test_split\n",
    "\n",
    "train, valid = train_test_split(data, test_size = 0.2, random_state = 123)"
   ]
  },
  {
   "cell_type": "code",
   "execution_count": 90,
   "metadata": {},
   "outputs": [
    {
     "name": "stdout",
     "output_type": "stream",
     "text": [
      "Shape of training set: (1167, 75)\n",
      "Shape of validation set: (292, 75)\n"
     ]
    }
   ],
   "source": [
    "print(\"Shape of training set:\", train.shape)\n",
    "print(\"Shape of validation set:\", valid.shape)"
   ]
  },
  {
   "cell_type": "code",
   "execution_count": 91,
   "metadata": {},
   "outputs": [],
   "source": [
    "x_train = train.drop('Sale_Price', axis = 1)\n",
    "y_train = train['Sale_Price']\n",
    "\n",
    "x_valid = valid.drop('Sale_Price', axis = 1)\n",
    "y_valid = valid['Sale_Price']"
   ]
  },
  {
   "cell_type": "code",
   "execution_count": 92,
   "metadata": {},
   "outputs": [
    {
     "name": "stdout",
     "output_type": "stream",
     "text": [
      "(1167, 74)\n",
      "(292, 74)\n"
     ]
    }
   ],
   "source": [
    "print(x_train.shape)\n",
    "\n",
    "print(x_valid.shape)"
   ]
  },
  {
   "cell_type": "markdown",
   "metadata": {},
   "source": [
    "## Model Building"
   ]
  },
  {
   "cell_type": "markdown",
   "metadata": {},
   "source": [
    "### Linear Regression"
   ]
  },
  {
   "cell_type": "code",
   "execution_count": 93,
   "metadata": {},
   "outputs": [
    {
     "data": {
      "text/plain": [
       "0.848989257708592"
      ]
     },
     "execution_count": 93,
     "metadata": {},
     "output_type": "execute_result"
    }
   ],
   "source": [
    "from sklearn.linear_model import LinearRegression\n",
    "\n",
    "LR = LinearRegression()\n",
    "\n",
    "LR.fit(x_train, y_train)\n",
    "\n",
    "pred_train = LR.predict(x_train)\n",
    "pred_valid = LR.predict(x_valid)\n",
    "\n",
    "Rsquare = LR.score(x_train, y_train)\n",
    "Rsquare"
   ]
  },
  {
   "cell_type": "code",
   "execution_count": 94,
   "metadata": {},
   "outputs": [],
   "source": [
    "from sklearn import metrics"
   ]
  },
  {
   "cell_type": "code",
   "execution_count": 95,
   "metadata": {},
   "outputs": [
    {
     "name": "stdout",
     "output_type": "stream",
     "text": [
      "Train RMSE: 30937.554584136204\n",
      "Validation RMSE: 28341.61254560808\n"
     ]
    }
   ],
   "source": [
    "print('Train RMSE:',np.sqrt(metrics.mean_squared_error(y_train, pred_train)))\n",
    "print('Validation RMSE:',np.sqrt(metrics.mean_squared_error(y_valid, pred_valid)))"
   ]
  },
  {
   "cell_type": "code",
   "execution_count": 96,
   "metadata": {},
   "outputs": [
    {
     "data": {
      "text/plain": [
       "957132283.646407"
      ]
     },
     "execution_count": 96,
     "metadata": {},
     "output_type": "execute_result"
    }
   ],
   "source": [
    "metrics.mean_squared_error(y_train, pred_train)"
   ]
  },
  {
   "cell_type": "markdown",
   "metadata": {},
   "source": [
    "## Model Improvement"
   ]
  },
  {
   "cell_type": "markdown",
   "metadata": {},
   "source": [
    "## Feature Scaling"
   ]
  },
  {
   "cell_type": "code",
   "execution_count": 97,
   "metadata": {},
   "outputs": [],
   "source": [
    "from sklearn.preprocessing import StandardScaler\n",
    "\n",
    "sc = StandardScaler()\n",
    "\n",
    "x_train_sc = sc.fit_transform(x_train)\n",
    "x_valid_sc = sc.transform(x_valid)"
   ]
  },
  {
   "cell_type": "code",
   "execution_count": 98,
   "metadata": {},
   "outputs": [
    {
     "data": {
      "text/plain": [
       "array([ 0.06992307, -0.06352233,  0.95798691, -0.04646956,  0.07188852,\n",
       "        0.7280666 , -1.07552059, -0.02928537,  0.60045217,  3.53115915,\n",
       "        0.43727102, -0.06228172, -0.03550638, -0.41801589,  1.03358884,\n",
       "        0.64974025, -0.51502886,  0.72912199,  0.39263475, -0.4997353 ,\n",
       "       -0.05924372, -1.14349218, -1.23469376, -1.23240056,  0.85726811,\n",
       "       -0.75184515,  0.3678275 ,  0.77595459, -0.31075024,  0.27649445,\n",
       "       -1.16829396, -0.41367476,  1.15871945,  0.29624622, -0.28058847,\n",
       "       -0.46725852,  0.63908912, -0.10549345, -0.87936835,  0.26393344,\n",
       "        0.30553558,  0.51504639,  2.12438522, -0.12096907,  2.0967568 ,\n",
       "        1.09941809, -0.23088841,  0.7837699 ,  1.24539532,  1.35856403,\n",
       "       -0.22869055, -0.44631126,  1.49468591,  0.26717312,  0.61814608,\n",
       "       -0.67162838,  0.61226776, -0.27999659,  1.66036254, -0.36756631,\n",
       "        0.2225218 ,  0.18540391,  0.29260894, -0.02930076, -0.22604567,\n",
       "       -0.41155572, -0.11797869, -0.25736283, -0.07687816, -0.08676842,\n",
       "       -0.84446086,  0.85517846,  0.31607019,  0.21691464])"
      ]
     },
     "execution_count": 98,
     "metadata": {},
     "output_type": "execute_result"
    }
   ],
   "source": [
    "x_train_sc[0]"
   ]
  },
  {
   "cell_type": "code",
   "execution_count": 99,
   "metadata": {},
   "outputs": [
    {
     "data": {
      "text/plain": [
       "0.8489808522641625"
      ]
     },
     "execution_count": 99,
     "metadata": {},
     "output_type": "execute_result"
    }
   ],
   "source": [
    "LR = LinearRegression()\n",
    "\n",
    "LR.fit(x_train_sc, y_train)\n",
    "\n",
    "pred_train = LR.predict(x_train_sc)\n",
    "pred_valid = LR.predict(x_valid_sc)\n",
    "\n",
    "Rsquare = LR.score(x_train_sc, y_train)\n",
    "Rsquare"
   ]
  },
  {
   "cell_type": "markdown",
   "metadata": {},
   "source": [
    "Here are three common evaluation metrics for regression problems:\n",
    "\n",
    "**Mean Absolute Error** (MAE) is the mean of the absolute value of the errors:\n",
    " \n",
    "**Mean Squared Error** (MSE) is the mean of the squared errors:\n",
    " \n",
    "**Root Mean Squared Error** (RMSE) is the square root of the mean of the squared errors:\n",
    "\n",
    " \n",
    "Comparing these metrics:\n",
    "\n",
    "- **MAE** is the easiest to understand, because it's the average error.\n",
    "- **MSE** is more popular than MAE, because MSE \"punishes\" larger errors, which tends to be useful in the real world.\n",
    "- **RMSE** is even more popular than MSE, because RMSE is interpretable in the \"y\" units.\n",
    "\n",
    "All of these are loss functions, because we want to minimize them.\n",
    "\n",
    "We will be using **RMSE** loss function to evaluate our predictions."
   ]
  },
  {
   "cell_type": "code",
   "execution_count": 100,
   "metadata": {},
   "outputs": [
    {
     "name": "stdout",
     "output_type": "stream",
     "text": [
      "Train RMSE: 30938.415583404865\n",
      "Validation RMSE: 28339.92828840908\n"
     ]
    }
   ],
   "source": [
    "print('Train RMSE:',np.sqrt(metrics.mean_squared_error(y_train, pred_train)))\n",
    "print('Validation RMSE:',np.sqrt(metrics.mean_squared_error(y_valid, pred_valid))) "
   ]
  },
  {
   "cell_type": "markdown",
   "metadata": {},
   "source": [
    "By using **Standard Scaler** method we were able to reduce **RMSE** by **50,000** units approx."
   ]
  },
  {
   "cell_type": "code",
   "execution_count": 101,
   "metadata": {},
   "outputs": [
    {
     "name": "stdout",
     "output_type": "stream",
     "text": [
      "Collecting lazypredict\n",
      "  Downloading lazypredict-0.2.7-py2.py3-none-any.whl (11 kB)\n",
      "Requirement already satisfied: Click>=7.0 in d:\\anaconda\\lib\\site-packages (from lazypredict) (7.0)\n",
      "Installing collected packages: lazypredict\n",
      "Successfully installed lazypredict-0.2.7\n"
     ]
    }
   ],
   "source": [
    "!pip install lazypredict"
   ]
  },
  {
   "cell_type": "code",
   "execution_count": 102,
   "metadata": {},
   "outputs": [],
   "source": [
    "from lazypredict.Supervised import LazyRegressor"
   ]
  },
  {
   "cell_type": "markdown",
   "metadata": {},
   "source": [
    "## Creating Regression Models"
   ]
  },
  {
   "cell_type": "code",
   "execution_count": 103,
   "metadata": {},
   "outputs": [],
   "source": [
    "reg = LazyRegressor(verbose=0, ignore_warnings=False, custom_metric=None)"
   ]
  },
  {
   "cell_type": "code",
   "execution_count": 104,
   "metadata": {},
   "outputs": [
    {
     "name": "stderr",
     "output_type": "stream",
     "text": [
      " 90%|█████████████████████████████████████████████████████████████████████████▌        | 35/39 [00:23<00:02,  1.35it/s]"
     ]
    },
    {
     "name": "stdout",
     "output_type": "stream",
     "text": [
      "StackingRegressor model failed to execute\n",
      "__init__() missing 1 required positional argument: 'estimators'\n"
     ]
    },
    {
     "name": "stderr",
     "output_type": "stream",
     "text": [
      "100%|██████████████████████████████████████████████████████████████████████████████████| 39/39 [00:25<00:00,  1.55it/s]\n"
     ]
    }
   ],
   "source": [
    "models, predictions = reg.fit(x_train_sc, x_valid_sc, y_train, y_valid)"
   ]
  },
  {
   "cell_type": "code",
   "execution_count": 105,
   "metadata": {},
   "outputs": [
    {
     "data": {
      "text/html": [
       "<div>\n",
       "<style scoped>\n",
       "    .dataframe tbody tr th:only-of-type {\n",
       "        vertical-align: middle;\n",
       "    }\n",
       "\n",
       "    .dataframe tbody tr th {\n",
       "        vertical-align: top;\n",
       "    }\n",
       "\n",
       "    .dataframe thead th {\n",
       "        text-align: right;\n",
       "    }\n",
       "</style>\n",
       "<table border=\"1\" class=\"dataframe\">\n",
       "  <thead>\n",
       "    <tr style=\"text-align: right;\">\n",
       "      <th></th>\n",
       "      <th>R-Squared</th>\n",
       "      <th>RMSE</th>\n",
       "      <th>Time Taken</th>\n",
       "    </tr>\n",
       "    <tr>\n",
       "      <th>Model</th>\n",
       "      <th></th>\n",
       "      <th></th>\n",
       "      <th></th>\n",
       "    </tr>\n",
       "  </thead>\n",
       "  <tbody>\n",
       "    <tr>\n",
       "      <th>GradientBoostingRegressor</th>\n",
       "      <td>0.91</td>\n",
       "      <td>24004.86</td>\n",
       "      <td>1.25</td>\n",
       "    </tr>\n",
       "    <tr>\n",
       "      <th>LGBMRegressor</th>\n",
       "      <td>0.89</td>\n",
       "      <td>25838.15</td>\n",
       "      <td>0.63</td>\n",
       "    </tr>\n",
       "    <tr>\n",
       "      <th>XGBRegressor</th>\n",
       "      <td>0.89</td>\n",
       "      <td>26567.55</td>\n",
       "      <td>1.44</td>\n",
       "    </tr>\n",
       "    <tr>\n",
       "      <th>RandomForestRegressor</th>\n",
       "      <td>0.88</td>\n",
       "      <td>26848.07</td>\n",
       "      <td>3.50</td>\n",
       "    </tr>\n",
       "    <tr>\n",
       "      <th>HistGradientBoostingRegressor</th>\n",
       "      <td>0.88</td>\n",
       "      <td>26911.95</td>\n",
       "      <td>4.71</td>\n",
       "    </tr>\n",
       "    <tr>\n",
       "      <th>ExtraTreesRegressor</th>\n",
       "      <td>0.88</td>\n",
       "      <td>27429.61</td>\n",
       "      <td>2.90</td>\n",
       "    </tr>\n",
       "    <tr>\n",
       "      <th>BaggingRegressor</th>\n",
       "      <td>0.87</td>\n",
       "      <td>28052.53</td>\n",
       "      <td>0.37</td>\n",
       "    </tr>\n",
       "    <tr>\n",
       "      <th>HuberRegressor</th>\n",
       "      <td>0.87</td>\n",
       "      <td>28248.31</td>\n",
       "      <td>0.26</td>\n",
       "    </tr>\n",
       "    <tr>\n",
       "      <th>LassoLars</th>\n",
       "      <td>0.87</td>\n",
       "      <td>28317.14</td>\n",
       "      <td>0.07</td>\n",
       "    </tr>\n",
       "    <tr>\n",
       "      <th>RidgeCV</th>\n",
       "      <td>0.87</td>\n",
       "      <td>28340.27</td>\n",
       "      <td>0.08</td>\n",
       "    </tr>\n",
       "    <tr>\n",
       "      <th>Lasso</th>\n",
       "      <td>0.87</td>\n",
       "      <td>28341.01</td>\n",
       "      <td>0.17</td>\n",
       "    </tr>\n",
       "    <tr>\n",
       "      <th>Ridge</th>\n",
       "      <td>0.87</td>\n",
       "      <td>28341.34</td>\n",
       "      <td>0.03</td>\n",
       "    </tr>\n",
       "    <tr>\n",
       "      <th>LinearRegression</th>\n",
       "      <td>0.87</td>\n",
       "      <td>28341.62</td>\n",
       "      <td>0.03</td>\n",
       "    </tr>\n",
       "    <tr>\n",
       "      <th>TransformedTargetRegressor</th>\n",
       "      <td>0.87</td>\n",
       "      <td>28341.62</td>\n",
       "      <td>0.03</td>\n",
       "    </tr>\n",
       "    <tr>\n",
       "      <th>BayesianRidge</th>\n",
       "      <td>0.87</td>\n",
       "      <td>28373.16</td>\n",
       "      <td>0.25</td>\n",
       "    </tr>\n",
       "    <tr>\n",
       "      <th>SGDRegressor</th>\n",
       "      <td>0.87</td>\n",
       "      <td>28395.68</td>\n",
       "      <td>0.06</td>\n",
       "    </tr>\n",
       "    <tr>\n",
       "      <th>Lars</th>\n",
       "      <td>0.87</td>\n",
       "      <td>28630.98</td>\n",
       "      <td>0.10</td>\n",
       "    </tr>\n",
       "    <tr>\n",
       "      <th>PassiveAggressiveRegressor</th>\n",
       "      <td>0.87</td>\n",
       "      <td>28656.77</td>\n",
       "      <td>0.35</td>\n",
       "    </tr>\n",
       "    <tr>\n",
       "      <th>LassoCV</th>\n",
       "      <td>0.86</td>\n",
       "      <td>28953.40</td>\n",
       "      <td>0.31</td>\n",
       "    </tr>\n",
       "    <tr>\n",
       "      <th>LassoLarsCV</th>\n",
       "      <td>0.86</td>\n",
       "      <td>29006.70</td>\n",
       "      <td>0.25</td>\n",
       "    </tr>\n",
       "    <tr>\n",
       "      <th>ElasticNet</th>\n",
       "      <td>0.86</td>\n",
       "      <td>29698.06</td>\n",
       "      <td>0.13</td>\n",
       "    </tr>\n",
       "    <tr>\n",
       "      <th>LassoLarsIC</th>\n",
       "      <td>0.85</td>\n",
       "      <td>30516.29</td>\n",
       "      <td>0.07</td>\n",
       "    </tr>\n",
       "    <tr>\n",
       "      <th>OrthogonalMatchingPursuitCV</th>\n",
       "      <td>0.82</td>\n",
       "      <td>33221.33</td>\n",
       "      <td>0.05</td>\n",
       "    </tr>\n",
       "    <tr>\n",
       "      <th>OrthogonalMatchingPursuit</th>\n",
       "      <td>0.82</td>\n",
       "      <td>33221.33</td>\n",
       "      <td>0.06</td>\n",
       "    </tr>\n",
       "    <tr>\n",
       "      <th>AdaBoostRegressor</th>\n",
       "      <td>0.82</td>\n",
       "      <td>33439.29</td>\n",
       "      <td>0.92</td>\n",
       "    </tr>\n",
       "    <tr>\n",
       "      <th>LarsCV</th>\n",
       "      <td>0.81</td>\n",
       "      <td>34155.73</td>\n",
       "      <td>0.25</td>\n",
       "    </tr>\n",
       "    <tr>\n",
       "      <th>RANSACRegressor</th>\n",
       "      <td>0.77</td>\n",
       "      <td>37812.03</td>\n",
       "      <td>0.39</td>\n",
       "    </tr>\n",
       "    <tr>\n",
       "      <th>KNeighborsRegressor</th>\n",
       "      <td>0.75</td>\n",
       "      <td>39589.31</td>\n",
       "      <td>0.18</td>\n",
       "    </tr>\n",
       "    <tr>\n",
       "      <th>DecisionTreeRegressor</th>\n",
       "      <td>0.71</td>\n",
       "      <td>42401.96</td>\n",
       "      <td>0.11</td>\n",
       "    </tr>\n",
       "    <tr>\n",
       "      <th>ExtraTreeRegressor</th>\n",
       "      <td>0.70</td>\n",
       "      <td>43061.02</td>\n",
       "      <td>0.05</td>\n",
       "    </tr>\n",
       "    <tr>\n",
       "      <th>ElasticNetCV</th>\n",
       "      <td>0.18</td>\n",
       "      <td>71072.46</td>\n",
       "      <td>0.41</td>\n",
       "    </tr>\n",
       "    <tr>\n",
       "      <th>DummyRegressor</th>\n",
       "      <td>-0.00</td>\n",
       "      <td>78741.76</td>\n",
       "      <td>0.02</td>\n",
       "    </tr>\n",
       "    <tr>\n",
       "      <th>NuSVR</th>\n",
       "      <td>-0.02</td>\n",
       "      <td>79465.11</td>\n",
       "      <td>0.30</td>\n",
       "    </tr>\n",
       "    <tr>\n",
       "      <th>SVR</th>\n",
       "      <td>-0.07</td>\n",
       "      <td>81453.80</td>\n",
       "      <td>0.43</td>\n",
       "    </tr>\n",
       "    <tr>\n",
       "      <th>KernelRidge</th>\n",
       "      <td>-4.36</td>\n",
       "      <td>182210.78</td>\n",
       "      <td>0.17</td>\n",
       "    </tr>\n",
       "    <tr>\n",
       "      <th>MLPRegressor</th>\n",
       "      <td>-5.22</td>\n",
       "      <td>196238.11</td>\n",
       "      <td>3.65</td>\n",
       "    </tr>\n",
       "    <tr>\n",
       "      <th>LinearSVR</th>\n",
       "      <td>-5.33</td>\n",
       "      <td>197999.10</td>\n",
       "      <td>0.03</td>\n",
       "    </tr>\n",
       "    <tr>\n",
       "      <th>GaussianProcessRegressor</th>\n",
       "      <td>-5.38</td>\n",
       "      <td>198788.69</td>\n",
       "      <td>1.07</td>\n",
       "    </tr>\n",
       "  </tbody>\n",
       "</table>\n",
       "</div>"
      ],
      "text/plain": [
       "                               R-Squared      RMSE  Time Taken\n",
       "Model                                                         \n",
       "GradientBoostingRegressor     0.91       24004.86  1.25       \n",
       "LGBMRegressor                 0.89       25838.15  0.63       \n",
       "XGBRegressor                  0.89       26567.55  1.44       \n",
       "RandomForestRegressor         0.88       26848.07  3.50       \n",
       "HistGradientBoostingRegressor 0.88       26911.95  4.71       \n",
       "ExtraTreesRegressor           0.88       27429.61  2.90       \n",
       "BaggingRegressor              0.87       28052.53  0.37       \n",
       "HuberRegressor                0.87       28248.31  0.26       \n",
       "LassoLars                     0.87       28317.14  0.07       \n",
       "RidgeCV                       0.87       28340.27  0.08       \n",
       "Lasso                         0.87       28341.01  0.17       \n",
       "Ridge                         0.87       28341.34  0.03       \n",
       "LinearRegression              0.87       28341.62  0.03       \n",
       "TransformedTargetRegressor    0.87       28341.62  0.03       \n",
       "BayesianRidge                 0.87       28373.16  0.25       \n",
       "SGDRegressor                  0.87       28395.68  0.06       \n",
       "Lars                          0.87       28630.98  0.10       \n",
       "PassiveAggressiveRegressor    0.87       28656.77  0.35       \n",
       "LassoCV                       0.86       28953.40  0.31       \n",
       "LassoLarsCV                   0.86       29006.70  0.25       \n",
       "ElasticNet                    0.86       29698.06  0.13       \n",
       "LassoLarsIC                   0.85       30516.29  0.07       \n",
       "OrthogonalMatchingPursuitCV   0.82       33221.33  0.05       \n",
       "OrthogonalMatchingPursuit     0.82       33221.33  0.06       \n",
       "AdaBoostRegressor             0.82       33439.29  0.92       \n",
       "LarsCV                        0.81       34155.73  0.25       \n",
       "RANSACRegressor               0.77       37812.03  0.39       \n",
       "KNeighborsRegressor           0.75       39589.31  0.18       \n",
       "DecisionTreeRegressor         0.71       42401.96  0.11       \n",
       "ExtraTreeRegressor            0.70       43061.02  0.05       \n",
       "ElasticNetCV                  0.18       71072.46  0.41       \n",
       "DummyRegressor                -0.00      78741.76  0.02       \n",
       "NuSVR                         -0.02      79465.11  0.30       \n",
       "SVR                           -0.07      81453.80  0.43       \n",
       "KernelRidge                   -4.36      182210.78 0.17       \n",
       "MLPRegressor                  -5.22      196238.11 3.65       \n",
       "LinearSVR                     -5.33      197999.10 0.03       \n",
       "GaussianProcessRegressor      -5.38      198788.69 1.07       "
      ]
     },
     "execution_count": 105,
     "metadata": {},
     "output_type": "execute_result"
    }
   ],
   "source": [
    "models"
   ]
  },
  {
   "cell_type": "markdown",
   "metadata": {},
   "source": [
    "### Gradient Boosting Regression"
   ]
  },
  {
   "cell_type": "code",
   "execution_count": 106,
   "metadata": {},
   "outputs": [
    {
     "data": {
      "text/plain": [
       "0.9672460642179866"
      ]
     },
     "execution_count": 106,
     "metadata": {},
     "output_type": "execute_result"
    }
   ],
   "source": [
    "from sklearn.ensemble import GradientBoostingRegressor\n",
    "\n",
    "GB = GradientBoostingRegressor(random_state=0)\n",
    "\n",
    "GB.fit(x_train_sc, y_train)\n",
    "\n",
    "GB_pred_train = GB.predict(x_train_sc)\n",
    "GB_pred_valid = GB.predict(x_valid_sc)\n",
    "\n",
    "GB_Rsquared = GB.score(x_train_sc, y_train)\n",
    "GB_Rsquared"
   ]
  },
  {
   "cell_type": "code",
   "execution_count": 110,
   "metadata": {},
   "outputs": [
    {
     "name": "stdout",
     "output_type": "stream",
     "text": [
      "Gradient Boosting Regression \n",
      "\n",
      "Train RMSE: 14408.335347957687 \n",
      "\n",
      "Validation RMSE: 24240.914190109957\n"
     ]
    }
   ],
   "source": [
    "print('Gradient Boosting Regression', '\\n')\n",
    "\n",
    "print('Train RMSE:',np.sqrt(metrics.mean_squared_error(y_train, GB_pred_train)), '\\n')\n",
    "\n",
    "print('Validation RMSE:',np.sqrt(metrics.mean_squared_error(y_valid, GB_pred_valid))) "
   ]
  },
  {
   "cell_type": "markdown",
   "metadata": {},
   "source": [
    "Our model is **Overfitting** as we can see **Low Training Error** representing **Low bias** and\n",
    "**High validation Error** meaning **High Variance** due to the **Outliers** in our data."
   ]
  },
  {
   "cell_type": "code",
   "execution_count": 111,
   "metadata": {},
   "outputs": [
    {
     "data": {
      "text/plain": [
       "{'alpha': 0.9,\n",
       " 'ccp_alpha': 0.0,\n",
       " 'criterion': 'friedman_mse',\n",
       " 'init': None,\n",
       " 'learning_rate': 0.1,\n",
       " 'loss': 'ls',\n",
       " 'max_depth': 3,\n",
       " 'max_features': None,\n",
       " 'max_leaf_nodes': None,\n",
       " 'min_impurity_decrease': 0.0,\n",
       " 'min_impurity_split': None,\n",
       " 'min_samples_leaf': 1,\n",
       " 'min_samples_split': 2,\n",
       " 'min_weight_fraction_leaf': 0.0,\n",
       " 'n_estimators': 100,\n",
       " 'n_iter_no_change': None,\n",
       " 'presort': 'deprecated',\n",
       " 'random_state': 0,\n",
       " 'subsample': 1.0,\n",
       " 'tol': 0.0001,\n",
       " 'validation_fraction': 0.1,\n",
       " 'verbose': 0,\n",
       " 'warm_start': False}"
      ]
     },
     "execution_count": 111,
     "metadata": {},
     "output_type": "execute_result"
    }
   ],
   "source": [
    "GB.get_params(deep=True)"
   ]
  },
  {
   "cell_type": "markdown",
   "metadata": {},
   "source": [
    "## Cross-Validation"
   ]
  },
  {
   "cell_type": "markdown",
   "metadata": {},
   "source": [
    "Cross-validation is primarily used in applied machine learning to estimate the skill of a machine learning model on unseen data."
   ]
  },
  {
   "cell_type": "markdown",
   "metadata": {},
   "source": [
    "### Hyperparameter Tuning Using Randomized Search CV"
   ]
  },
  {
   "cell_type": "code",
   "execution_count": 112,
   "metadata": {},
   "outputs": [],
   "source": [
    "from sklearn.model_selection import RandomizedSearchCV"
   ]
  },
  {
   "cell_type": "code",
   "execution_count": 120,
   "metadata": {},
   "outputs": [],
   "source": [
    "GB = GradientBoostingRegressor()\n",
    "\n",
    "parameters = {'n_estimators':[50,75,100,125],\n",
    "                   'criterion':['mse','mae'],\n",
    "                   'max_depth':[2,3,5],\n",
    "                   'min_samples_split':[2,3,4],\n",
    "                   'min_samples_leaf':[1,2,3]}\n",
    "\n",
    "Randomized_SearchCV_GB = RandomizedSearchCV(GB, parameters, cv = 5)"
   ]
  },
  {
   "cell_type": "code",
   "execution_count": 121,
   "metadata": {},
   "outputs": [
    {
     "data": {
      "text/plain": [
       "RandomizedSearchCV(cv=5, error_score=nan,\n",
       "                   estimator=GradientBoostingRegressor(alpha=0.9, ccp_alpha=0.0,\n",
       "                                                       criterion='friedman_mse',\n",
       "                                                       init=None,\n",
       "                                                       learning_rate=0.1,\n",
       "                                                       loss='ls', max_depth=3,\n",
       "                                                       max_features=None,\n",
       "                                                       max_leaf_nodes=None,\n",
       "                                                       min_impurity_decrease=0.0,\n",
       "                                                       min_impurity_split=None,\n",
       "                                                       min_samples_leaf=1,\n",
       "                                                       min_samples_split=2,\n",
       "                                                       min_weight_fraction_leaf=0.0,\n",
       "                                                       n_estimators=100,\n",
       "                                                       n_...\n",
       "                                                       tol=0.0001,\n",
       "                                                       validation_fraction=0.1,\n",
       "                                                       verbose=0,\n",
       "                                                       warm_start=False),\n",
       "                   iid='deprecated', n_iter=10, n_jobs=None,\n",
       "                   param_distributions={'criterion': ['mse', 'mae'],\n",
       "                                        'max_depth': [2, 3, 5],\n",
       "                                        'min_samples_leaf': [1, 2, 3],\n",
       "                                        'min_samples_split': [2, 3, 4],\n",
       "                                        'n_estimators': [50, 75, 100, 125]},\n",
       "                   pre_dispatch='2*n_jobs', random_state=None, refit=True,\n",
       "                   return_train_score=False, scoring=None, verbose=0)"
      ]
     },
     "execution_count": 121,
     "metadata": {},
     "output_type": "execute_result"
    }
   ],
   "source": [
    "Randomized_SearchCV_GB.fit(x_train_sc, y_train)"
   ]
  },
  {
   "cell_type": "code",
   "execution_count": 122,
   "metadata": {},
   "outputs": [
    {
     "data": {
      "text/plain": [
       "{'n_estimators': 125,\n",
       " 'min_samples_split': 4,\n",
       " 'min_samples_leaf': 1,\n",
       " 'max_depth': 3,\n",
       " 'criterion': 'mse'}"
      ]
     },
     "execution_count": 122,
     "metadata": {},
     "output_type": "execute_result"
    }
   ],
   "source": [
    "Randomized_SearchCV_GB.best_params_"
   ]
  },
  {
   "cell_type": "markdown",
   "metadata": {},
   "source": [
    "Applying above parameters"
   ]
  },
  {
   "cell_type": "code",
   "execution_count": 123,
   "metadata": {},
   "outputs": [],
   "source": [
    "GB = GradientBoostingRegressor(n_estimators=125, criterion='mse', max_depth=3, min_samples_split=4, min_samples_leaf=1)\n",
    "\n",
    "GB.fit(x_train_sc, y_train)\n",
    "\n",
    "pred_train = GB.predict(x_train_sc)\n",
    "pred_valid = GB.predict(x_valid_sc)\n"
   ]
  },
  {
   "cell_type": "code",
   "execution_count": 124,
   "metadata": {},
   "outputs": [
    {
     "name": "stdout",
     "output_type": "stream",
     "text": [
      "Gradient Boosting Regression after hyper-parameter tuning \n",
      "\n",
      "Train RMSE: 13570.697730167552 \n",
      "\n",
      "Validation RMSE: 24070.35482607438\n"
     ]
    }
   ],
   "source": [
    "print(\"Gradient Boosting Regression after hyper-parameter tuning\", '\\n')\n",
    "\n",
    "print('Train RMSE:',np.sqrt(metrics.mean_squared_error(y_train, pred_train)), '\\n')\n",
    "\n",
    "print('Validation RMSE:',np.sqrt(metrics.mean_squared_error(y_valid, pred_valid))) "
   ]
  },
  {
   "cell_type": "code",
   "execution_count": 125,
   "metadata": {},
   "outputs": [
    {
     "data": {
      "text/plain": [
       "0.9709437052890209"
      ]
     },
     "execution_count": 125,
     "metadata": {},
     "output_type": "execute_result"
    }
   ],
   "source": [
    "GB.score(x_train_sc, y_train)  # R-Squared"
   ]
  },
  {
   "cell_type": "markdown",
   "metadata": {},
   "source": [
    "### Hyperparameter Tuning Using Grid Search CV"
   ]
  },
  {
   "cell_type": "code",
   "execution_count": 126,
   "metadata": {},
   "outputs": [],
   "source": [
    "from sklearn.model_selection import GridSearchCV"
   ]
  },
  {
   "cell_type": "raw",
   "metadata": {},
   "source": [
    "GB = GradientBoostingRegressor()\n",
    "\n",
    "parameters = {'n_estimators':[50,75,100,125],\n",
    "                   'criterion':['mse','mae'],\n",
    "                   'max_depth':[2,3,5],\n",
    "                   'min_samples_split':[2,3,4],\n",
    "                   'min_samples_leaf':[1,2,3]}\n",
    "\n",
    "Grid_SearchCV_GB = GridSearchCV(GB, parameters, cv = 5)"
   ]
  },
  {
   "cell_type": "markdown",
   "metadata": {},
   "source": [
    "Grid_SearchCV_GB.fit(x_train_sc, y_train)"
   ]
  },
  {
   "cell_type": "code",
   "execution_count": 130,
   "metadata": {},
   "outputs": [
    {
     "data": {
      "text/plain": [
       "{'criterion': 'mae',\n",
       " 'max_depth': 3,\n",
       " 'min_samples_leaf': 1,\n",
       " 'min_samples_split': 3,\n",
       " 'n_estimators': 125}"
      ]
     },
     "execution_count": 130,
     "metadata": {},
     "output_type": "execute_result"
    }
   ],
   "source": [
    "Grid_SearchCV_GB.best_params_"
   ]
  },
  {
   "cell_type": "markdown",
   "metadata": {},
   "source": [
    "Applying above parameters"
   ]
  },
  {
   "cell_type": "code",
   "execution_count": 131,
   "metadata": {},
   "outputs": [],
   "source": [
    "GB = GradientBoostingRegressor(n_estimators=125, criterion='mae', max_depth=3, min_samples_split=3, min_samples_leaf=1)\n",
    "\n",
    "GB.fit(x_train_sc, y_train)\n",
    "\n",
    "pred_train = GB.predict(x_train_sc)\n",
    "pred_valid = GB.predict(x_valid_sc)"
   ]
  },
  {
   "cell_type": "code",
   "execution_count": 132,
   "metadata": {},
   "outputs": [
    {
     "name": "stdout",
     "output_type": "stream",
     "text": [
      "Gradient Boosting Regression after hyper-parameter tuning using Grid Search CV \n",
      "\n",
      "Train RMSE: 14705.351809778635 \n",
      "\n",
      "Validation RMSE: 23668.708627144573\n"
     ]
    }
   ],
   "source": [
    "print(\"Gradient Boosting Regression after hyper-parameter tuning using Grid Search CV\", '\\n')\n",
    "\n",
    "print('Train RMSE:',np.sqrt(metrics.mean_squared_error(y_train, pred_train)), '\\n')\n",
    "\n",
    "print('Validation RMSE:',np.sqrt(metrics.mean_squared_error(y_valid, pred_valid))) "
   ]
  },
  {
   "cell_type": "code",
   "execution_count": 133,
   "metadata": {},
   "outputs": [
    {
     "data": {
      "text/plain": [
       "0.9658817525022466"
      ]
     },
     "execution_count": 133,
     "metadata": {},
     "output_type": "execute_result"
    }
   ],
   "source": [
    "GB.score(x_train_sc, y_train)  # R-Squared"
   ]
  },
  {
   "cell_type": "markdown",
   "metadata": {},
   "source": [
    "## Conclusion"
   ]
  },
  {
   "cell_type": "markdown",
   "metadata": {},
   "source": [
    "**R-squared** remains **unchanged** at **0.97** even after hyper-parameter tuning using Random serach CV and Grid search CV.\n",
    "\n",
    "**Gradient Boosting Regression Model** is still **overfitting** (Low Bias and High variance) due to the **Outliers**.\n",
    "\n",
    "**Linear Regression** is the most **generalized model** as compare to Gradient Boosting model."
   ]
  },
  {
   "cell_type": "code",
   "execution_count": null,
   "metadata": {},
   "outputs": [],
   "source": []
  }
 ],
 "metadata": {
  "kernelspec": {
   "display_name": "Python 3",
   "language": "python",
   "name": "python3"
  }
 },
 "nbformat": 4,
 "nbformat_minor": 4
}
